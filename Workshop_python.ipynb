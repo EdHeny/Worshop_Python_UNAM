{
 "cells": [
  {
   "attachments": {},
   "cell_type": "markdown",
   "metadata": {},
   "source": [
    "# Taller Python: Estructura de Datos\n",
    "\n",
    "## Introducción a las estructuras de datos\n",
    "\n",
    "Una estructura de datos es una colección de datos que pueden ser caracterizados por su organización y las operaciones que se definen en ella.\n",
    "\n",
    "Los tipos de datos simples más frecuentes utilizados en los diferentes lenguajes de programación son: entero (integer), real (float), carácter (char) y lógicos (buleanos).\n",
    "\n",
    "Los tipos de datos estructurados pueden ser organizados en diferentes estructuras de datos: estáticas y dinámicas.\n",
    "\n",
    "Las estructuras de datos estáticas son aquellas en las que el tamaño ocupado en memoria se define antes de que el programa se ejecute y no puede modificarse dicho tamaño durante la ejecución del programa. Estas estructuras están implementadas en casi todos los lenguajes: array (vectores/tablas-matrices), registros, ficheros o archivos.\n",
    "\n",
    "Las estructuras de datos dinámicas no tienen las limitaciones o restricciones en el tamaño de memoria ocupada que son propias de las estructuras estáticas. Las estructuras dinámicas por\n",
    "excelencia son las listas enlazadas, pilas, colas y árboles. \n",
    "\n",
    "## Repaso al concepto de algoritmo\n",
    "\n",
    "Llamamos “algoritmo” al conjunto finito y ordenado de acciones con las que podemos resolver un determinado problema.\n",
    "\n",
    "Llamamos “problema” a una situación que se nos presenta y que, mediante la aplicación de un algoritmo, pretendemos resolver.\n",
    "\n",
    "Los algoritmos están presentes en nuestra vida cotidiana y, aún sin saberlo, aplicamos algoritmos cada vez que se nos presenta un problema sin importar cuál sea su grado de complejidad.\n",
    "\n",
    "¿Cuáles son las características de los algoritmos?\n",
    "\n",
    "- Inicio y fin: parten de un estado inicial desde el cual ejecutan una serie de instrucciones para llegar a un estado final de salida o finalización.\n",
    "- Exactitud: deben indicar un orden claro, específico y lógico de instrucciones para la ejecución de cada paso, sin que exista espacio para la ambigüedad.\n",
    "- Secuencia: deben seguir una serie de pasos ordenados, entendibles y previamente establecidos. \n",
    "- Completos: deben tener en cuenta todas las posibilidades y presentaciones del problema para ejecutar la solución exacta. \n",
    "- Finitos: el número de pasos para ejecutar la tarea debe ser finito para darla por concluida. \n",
    "- Abstractos: representan una guía o modelo para ordenar procesos. \n",
    "\n",
    "¿Qué tipos de algoritmos existen?\n",
    "\n",
    "Según su función y estrategia, es decir, qué hacen y cómo lo hacen, existen cinco tipos de algoritmos:\n",
    "\n",
    "- Algoritmos de búsqueda: aquellos que encuentran uno o varios elementos que presenten un conjunto de propiedades dentro de una determinada estructura de datos.\n",
    "  - Secuenciales: comparan el elemento a buscar con cada elemento del conjunto, hasta encontrarlo.\n",
    "  - Binarias: comparan el elemento de búsqueda con un elemento ubicado en el medio de una serie ordenada para determinar si son iguales.\n",
    "\n",
    "- Algoritmo de ordenamiento: son los que se utilizan para reorganizar elementos de un listado, siguiendo unas pautas de orden numérico o alfanumérico. Pueden ser:\n",
    "  - De burbuja: comparan cada elemento de la lista a ordenar, intercambiando posiciones si no están ordenados correctamente.\n",
    "  - Por selección: ordenan a partir del elemento más pequeño de forma consecutiva.\n",
    "\n",
    "- Algoritmos voraces: se trata de un tipo de algoritmo aplicado a problemas de optimización y se utiliza para la toma de decisiones lógicas para llegar a una solución final global. Estos algoritmos no son reversibles una vez que se toma la decisión de ejecutarlos.\n",
    "\n",
    "- Programación dinámica: este tipo de algoritmo está asociado al método con el que se procesa el resultado. La solución de un elemento depende de la solución de una serie de problemas más pequeños, por lo que conforme se van solucionando subproblemas, se van almacenando las soluciones para que no sea necesario calcularlas nuevamente.\n",
    "\n",
    "- Algoritmos probabilísticos: este tipo de algoritmos basa sus resultados en el azar, de manera que, en líneas generales, se pueda obtener una buena solución para cualquier distribución aleatoria de inputs de entrada.\n",
    "\n",
    "- Llamaremos algoritmos recursivos a aquellos que realizan llamadas recursivas para llegar al resultado, y algoritmos iterativos a aquellos que llegan a un resultado a través de una iteración mediante un ciclo definido o indefinido.\n",
    "\n",
    "### Recursión\n",
    "\n",
    "La recursión consiste en funciones que se llaman a sí mismas, evitando el uso de bucles y otros iteradores.\n",
    "\n",
    "```\n",
    "  función factorial:\n",
    "  input: entero n de forma que n >= 0\n",
    "  output: [n × (n-1) × (n-2) × … × 1]\n",
    "    1. if n es 0, return 1\n",
    "    2. else, return [ n × factorial(n-1) ]\n",
    "  end factorial\n",
    "\n",
    "```"
   ]
  },
  {
   "attachments": {},
   "cell_type": "markdown",
   "metadata": {},
   "source": [
    "# Estructura de Datos en Python.\n",
    "\n",
    "Además de almacenar un único valor en una variable, Python soporta estructuras de datos que nos permiten almacenar múltiples elementos en una única variable. Python utiliza estructuras como tipos de datos básicos con características específicas asociadas a cada uno.\n",
    "\n",
    "Recordemos que un string es una estructura de datos que organiza el texto como una secuencia de caracteres, del mismo modo, las listas, tuplas, diccionarios y conjuntos organizan valores de datos. \n",
    "\n",
    "#### Tipos de estructura de datos en Python\n",
    "\n",
    "| Estructura | Sintaxis | Definición |  \n",
    "| ----- | ----- | ----- |\n",
    "| **List** | Las listas están encerradas dentro de corchetes: listExample = [1, 2, \"a\"] | Las listas son ordenadas y modificables. |  \n",
    "| **Tuple** | Las tuplas se encierran con paréntesis: tupleExample = (1, 2, \"a\") | Una tupla es ordenada y no puede ser modificada. |  \n",
    "| **Dictionary** | Los diccionarios se construyen usando llaves: dictionaryExample = {\"a\":1, \"b\":2} | Un diccionario no es ordenado, es modificable e indexado. Estos manejan llaves y valores. |  \n",
    "| **Set** | Los conjuntos se declaran usando también llaves: setExample = {1, 2, 3}. | Un conjunto es una colección no ordenada de elementos. Cada conjunto de elementos es único y se aconseja que no cambie, aunque un conjunto es modificable. |"
   ]
  },
  {
   "attachments": {},
   "cell_type": "markdown",
   "metadata": {},
   "source": [
    "## Listas.\n",
    "\n",
    "Una lista es una secuencia de valores de datos llamados objetos o elementos. Características de las listas:\n",
    "+ son modificables y los elementos dentro de ella están indexados,\n",
    "+ pueden contener elementos del mismo tipo o de tipos diferentes,\n",
    "+ los elementos dentro de una lista pueden editarse, añadir nuevos o eliminarse,\n",
    "+ puede contener elementos duplicados sin que arroje un error,\n",
    "+ las listas pueden cambiar dinámicamente de tamaño."
   ]
  },
  {
   "attachments": {},
   "cell_type": "markdown",
   "metadata": {},
   "source": [
    "### Creando listas.\n",
    "\n",
    "Para crear una lista colocaremos todos los elementos u objetos dentro de corchetes y los separaremos mediante comas. La sintaxis básica es la siguiente:\n",
    "\n",
    "```python\n",
    "listName = ['item 1', 'item 2', 'item 3', 'item 4', ...]\n",
    "```\n",
    "\n",
    "Las listas suelen almacenar datos homogéneos, es decir, valores del mismo tipo de datos. Por ejemplo:"
   ]
  },
  {
   "cell_type": "code",
   "execution_count": 2,
   "metadata": {},
   "outputs": [
    {
     "name": "stdout",
     "output_type": "stream",
     "text": [
      "[-45, 6, 0, 72, 1543, 9.8]\n",
      "<class 'list'>\n"
     ]
    }
   ],
   "source": [
    "numberList = [-45, 6, 0, 72, 1543, 9.8]\n",
    "print(numberList)\n",
    "print(type(numberList))"
   ]
  },
  {
   "cell_type": "code",
   "execution_count": 4,
   "metadata": {},
   "outputs": [
    {
     "name": "stdout",
     "output_type": "stream",
     "text": [
      "['Katrina', 'María', 'Miguel']\n",
      "<class 'list'>\n"
     ]
    }
   ],
   "source": [
    "stringList = ['Katrina', 'María', 'Miguel']\n",
    "print(stringList)\n",
    "print(type(stringList))"
   ]
  },
  {
   "attachments": {},
   "cell_type": "markdown",
   "metadata": {},
   "source": [
    "También pueden almacenar datos heterogéneos, es decir, de muchos tipos diferentes:"
   ]
  },
  {
   "cell_type": "code",
   "execution_count": 5,
   "metadata": {},
   "outputs": [
    {
     "name": "stdout",
     "output_type": "stream",
     "text": [
      "['Edgar', 3.7, 2002, 'Calle Bajío #34']\n",
      "<class 'list'>\n"
     ]
    }
   ],
   "source": [
    "itemsList = ['Edgar', 3.7, 2002, 'Calle Bajío #34']\n",
    "print(itemsList)\n",
    "print(type(itemsList))"
   ]
  },
  {
   "attachments": {},
   "cell_type": "markdown",
   "metadata": {},
   "source": [
    "### La longitud de una lista\n",
    "\n",
    "La longitud de una lista es igual al número de objetos dentro de ella. Si queremos saber el número de objetos dentro de una lista, usaremos la función ```len()```, la cual regresa su longitud. Por ejemplo:"
   ]
  },
  {
   "cell_type": "code",
   "execution_count": 7,
   "metadata": {},
   "outputs": [
    {
     "name": "stdout",
     "output_type": "stream",
     "text": [
      "Hay 4 nombres en la lista \"stringList\".\n"
     ]
    }
   ],
   "source": [
    "stringList = ['Katrina', 'María', 'Miguel', 'Edgar']\n",
    "howManyNames = len(stringList)\n",
    "print(f\"Hay {howManyNames} nombres en la lista \\\"stringList\\\".\")"
   ]
  },
  {
   "attachments": {},
   "cell_type": "markdown",
   "metadata": {},
   "source": [
    "### Accediendo a los elementos de una lista.\n",
    "\n",
    "Para hacer referencia a un elemento de la lista, escriba el nombre de la lista seguido del índice del elemento (su número de posición) entre corchetes. El primer elemento de una lista tiene el índice 0."
   ]
  },
  {
   "cell_type": "code",
   "execution_count": 8,
   "metadata": {},
   "outputs": [
    {
     "name": "stdout",
     "output_type": "stream",
     "text": [
      "El elemento itemsList[0] es Edgar\n",
      "El elemento itemsList[1] es 3.7\n",
      "El elemento itemsList[2] es 2002\n",
      "El elemento itemsList[3] es Calle Bajío #34\n"
     ]
    },
    {
     "ename": "IndexError",
     "evalue": "list index out of range",
     "output_type": "error",
     "traceback": [
      "\u001b[0;31m---------------------------------------------------------------------------\u001b[0m",
      "\u001b[0;31mIndexError\u001b[0m                                Traceback (most recent call last)",
      "\u001b[1;32m/home/edwin/Workspace/Worshop_Python_UNAM/Workshop_python.ipynb Cell 12\u001b[0m in \u001b[0;36m<cell line: 5>\u001b[0;34m()\u001b[0m\n\u001b[1;32m      <a href='vscode-notebook-cell:/home/edwin/Workspace/Worshop_Python_UNAM/Workshop_python.ipynb#X14sZmlsZQ%3D%3D?line=2'>3</a>\u001b[0m \u001b[39mprint\u001b[39m(\u001b[39mf\u001b[39m\u001b[39m'\u001b[39m\u001b[39mEl elemento itemsList[2] es \u001b[39m\u001b[39m{\u001b[39;00mitemsList[\u001b[39m2\u001b[39m]\u001b[39m}\u001b[39;00m\u001b[39m'\u001b[39m)\n\u001b[1;32m      <a href='vscode-notebook-cell:/home/edwin/Workspace/Worshop_Python_UNAM/Workshop_python.ipynb#X14sZmlsZQ%3D%3D?line=3'>4</a>\u001b[0m \u001b[39mprint\u001b[39m(\u001b[39mf\u001b[39m\u001b[39m'\u001b[39m\u001b[39mEl elemento itemsList[3] es \u001b[39m\u001b[39m{\u001b[39;00mitemsList[\u001b[39m3\u001b[39m]\u001b[39m}\u001b[39;00m\u001b[39m'\u001b[39m)\n\u001b[0;32m----> <a href='vscode-notebook-cell:/home/edwin/Workspace/Worshop_Python_UNAM/Workshop_python.ipynb#X14sZmlsZQ%3D%3D?line=4'>5</a>\u001b[0m \u001b[39mprint\u001b[39m(\u001b[39mf\u001b[39m\u001b[39m'\u001b[39m\u001b[39mEl elemento itemsList[4] es \u001b[39m\u001b[39m{\u001b[39;00mitemsList[\u001b[39m4\u001b[39m]\u001b[39m}\u001b[39;00m\u001b[39m'\u001b[39m)\n",
      "\u001b[0;31mIndexError\u001b[0m: list index out of range"
     ]
    }
   ],
   "source": [
    "print(f'El elemento itemsList[0] es {itemsList[0]}')\n",
    "print(f'El elemento itemsList[1] es {itemsList[1]}')\n",
    "print(f'El elemento itemsList[2] es {itemsList[2]}')\n",
    "print(f'El elemento itemsList[3] es {itemsList[3]}')\n",
    "print(f'El elemento itemsList[4] es {itemsList[4]}')"
   ]
  },
  {
   "attachments": {},
   "cell_type": "markdown",
   "metadata": {},
   "source": [
    "También se puede acceder a las listas desde el final utilizando índices negativos:"
   ]
  },
  {
   "cell_type": "code",
   "execution_count": 12,
   "metadata": {},
   "outputs": [
    {
     "name": "stdout",
     "output_type": "stream",
     "text": [
      "El elemento itemsList[-1] es Calle Bajío #34\n",
      "El elemento itemsList[-2] es 2002\n",
      "El elemento itemsList[-3] es 3.7\n",
      "El elemento itemsList[-4] es Edgar\n"
     ]
    }
   ],
   "source": [
    "print(f'El elemento itemsList[-1] es {itemsList[-1]}')\n",
    "print(f'El elemento itemsList[-2] es {itemsList[-2]}')\n",
    "print(f'El elemento itemsList[-3] es {itemsList[-3]}')\n",
    "print(f'El elemento itemsList[-4] es {itemsList[-4]}')"
   ]
  },
  {
   "attachments": {},
   "cell_type": "markdown",
   "metadata": {},
   "source": [
    "## Cortando Listas\n",
    "\n",
    "La indexación nos permite acceder o actualizar una sola celda de una lista; sin embargo, puede ser necesario obtener un subconjunto de datos de la lista.\n",
    "\n",
    "Puede especificar dónde empezar el corte y dónde terminar:  \n",
    "```\n",
    "    slice[start:end]\n",
    "```\n",
    "**start** es el índice del primer elemento a incluir, y **end** es el índice del elemento en el que detenerse sin incluirlo en la rebanada. También puede especificar el paso, lo que le permite trocear determinados múltiplos, por ejemplo, sólo cada tercer elemento:  \n",
    "```\n",
    "    slice[start:end:step]\n",
    "```"
   ]
  },
  {
   "cell_type": "code",
   "execution_count": 11,
   "metadata": {},
   "outputs": [
    {
     "name": "stdout",
     "output_type": "stream",
     "text": [
      "['a', 'b', 'c', 'd', 'e', 'f', 'g', 'h', 'i']\n",
      "['g', 'h', 'i']\n",
      "9\n"
     ]
    }
   ],
   "source": [
    "vowelList = ['a', 'b', 'c', 'd', 'e', 'f', 'g', 'h', 'i']\n",
    "print(f'{vowelList}')\n",
    "print(f'{vowelList[6:]}')\n",
    "endList = len(vowelList)\n",
    "print(endList)"
   ]
  },
  {
   "cell_type": "code",
   "execution_count": 12,
   "metadata": {},
   "outputs": [
    {
     "name": "stdout",
     "output_type": "stream",
     "text": [
      "['c', 'd', 'e']\n"
     ]
    }
   ],
   "source": [
    "slicedVowelList = vowelList[2:5]\n",
    "print(f'{slicedVowelList}')"
   ]
  },
  {
   "cell_type": "code",
   "execution_count": 13,
   "metadata": {},
   "outputs": [
    {
     "name": "stdout",
     "output_type": "stream",
     "text": [
      "['a', 'c', 'e', 'g', 'i']\n"
     ]
    }
   ],
   "source": [
    "evenVowelList = vowelList[0:endList:2]\n",
    "print(f'{evenVowelList}')"
   ]
  },
  {
   "cell_type": "code",
   "execution_count": 16,
   "metadata": {},
   "outputs": [
    {
     "name": "stdout",
     "output_type": "stream",
     "text": [
      "['b', 'd', 'f', 'h']\n"
     ]
    }
   ],
   "source": [
    "\n",
    "oddVowelList = vowelList[1:endList:2]\n",
    "print(f'{oddVowelList}')"
   ]
  },
  {
   "attachments": {},
   "cell_type": "markdown",
   "metadata": {},
   "source": [
    "## Agregando elementos a una lista\n",
    "\n",
    "Recordemos que las listas son mutables, por lo que podemos cambiar el tamaño de una lista que ya hemos definido añadiendo nuevos valores o eliminando los existentes.\n",
    "\n",
    "Utilizamos el método ```append()``` para añadir elementos a una lista existente. Cada nuevo elemento se añade al final de la lista existente.\n",
    "\n",
    "El método ```append()``` se llama simplemente pasando el valor que queremos añadir:\n",
    "\n",
    "```python\n",
    "    someList.append(value)\n",
    "```"
   ]
  },
  {
   "cell_type": "code",
   "execution_count": 14,
   "metadata": {},
   "outputs": [
    {
     "name": "stdout",
     "output_type": "stream",
     "text": [
      "[] \n",
      "\n"
     ]
    }
   ],
   "source": [
    "nameList = []       # Lista vacía\n",
    "print(f'{nameList} \\n')"
   ]
  },
  {
   "cell_type": "code",
   "execution_count": 15,
   "metadata": {},
   "outputs": [
    {
     "name": "stdout",
     "output_type": "stream",
     "text": [
      "['Gregorio']\n"
     ]
    }
   ],
   "source": [
    "nameList.append('Gregorio')\n",
    "print(f'{nameList}')"
   ]
  },
  {
   "cell_type": "code",
   "execution_count": 16,
   "metadata": {},
   "outputs": [
    {
     "name": "stdout",
     "output_type": "stream",
     "text": [
      "['Gregorio', 'Mario']\n"
     ]
    }
   ],
   "source": [
    "nameList.append('Mario')\n",
    "print(f'{nameList}')"
   ]
  },
  {
   "cell_type": "code",
   "execution_count": 17,
   "metadata": {},
   "outputs": [
    {
     "name": "stdout",
     "output_type": "stream",
     "text": [
      "['Gregorio', 'Mario', 'Diego']\n"
     ]
    }
   ],
   "source": [
    "nameList.append('Diego')\n",
    "print(f'{nameList}')"
   ]
  },
  {
   "attachments": {},
   "cell_type": "markdown",
   "metadata": {},
   "source": [
    "## Insertando elementos a una Lista\n",
    "\n",
    "El tipo lista incluye varios métodos para insertar y eliminar elementos. Otro método de es ```insert()```, que tiene la siguiente sintaxis:  \n",
    "```python\n",
    "    someList.insert(index, obj)\n",
    "```\n",
    "El **index** es el valor del índice (posición) donde el objeto (**obj**) se quiere insertar."
   ]
  },
  {
   "cell_type": "code",
   "execution_count": 18,
   "metadata": {},
   "outputs": [
    {
     "name": "stdout",
     "output_type": "stream",
     "text": [
      "['Gregorio', 'Mario', 'Diego']\n"
     ]
    }
   ],
   "source": [
    "print(nameList)"
   ]
  },
  {
   "cell_type": "code",
   "execution_count": 19,
   "metadata": {},
   "outputs": [
    {
     "name": "stdout",
     "output_type": "stream",
     "text": [
      "['Amelia', 'Gregorio', 'Mario', 'Diego']\n"
     ]
    }
   ],
   "source": [
    "nameList.insert(0, 'Amelia')\n",
    "print(f'{nameList}')"
   ]
  },
  {
   "cell_type": "code",
   "execution_count": 20,
   "metadata": {},
   "outputs": [
    {
     "name": "stdout",
     "output_type": "stream",
     "text": [
      "['Amelia', 'Gregorio', 'Rosa', 'Mario', 'Diego']\n"
     ]
    }
   ],
   "source": [
    "nameList.insert(2, 'Rosa')\n",
    "print(f'{nameList}')"
   ]
  },
  {
   "cell_type": "code",
   "execution_count": 21,
   "metadata": {},
   "outputs": [
    {
     "name": "stdout",
     "output_type": "stream",
     "text": [
      "['Amelia', 'Gregorio', 'Rosa', 'Mario', 'Diego', 'Ursula']\n"
     ]
    }
   ],
   "source": [
    "nameList.insert(5, 'Ursula')\n",
    "print(f'{nameList}')"
   ]
  },
  {
   "cell_type": "code",
   "execution_count": 22,
   "metadata": {},
   "outputs": [
    {
     "name": "stdout",
     "output_type": "stream",
     "text": [
      "['Amelia', 'Gregorio', 'Rosa', 'Mario', 'Diego', 'Ursula', 'Patricia']\n"
     ]
    }
   ],
   "source": [
    "nameList.insert(8, 'Patricia')\n",
    "print(f'{nameList}')"
   ]
  },
  {
   "attachments": {},
   "cell_type": "markdown",
   "metadata": {},
   "source": [
    "## Remover elementos de una Lista\n",
    "\n",
    "El método ```remove()``` para eliminar elementos de una lista. La sintaxis del método ```remove()``` es:  \n",
    "```python\n",
    "    remove(value)\n",
    "```\n",
    "El método ```remove()``` toma como parámetro el valor (no el índice). En los casos en que el valor aparece más de una vez en la lista, el método ```remove()``` borra sólo la primera primera aparición del valor."
   ]
  },
  {
   "cell_type": "code",
   "execution_count": 23,
   "metadata": {},
   "outputs": [
    {
     "data": {
      "text/plain": [
       "['Amelia', 'Gregorio', 'Rosa', 'Mario', 'Diego', 'Ursula', 'Patricia']"
      ]
     },
     "execution_count": 23,
     "metadata": {},
     "output_type": "execute_result"
    }
   ],
   "source": [
    "nameList"
   ]
  },
  {
   "cell_type": "code",
   "execution_count": 24,
   "metadata": {},
   "outputs": [
    {
     "name": "stdout",
     "output_type": "stream",
     "text": [
      "['Amelia', 'Rosa', 'Mario', 'Diego', 'Ursula', 'Patricia']\n"
     ]
    }
   ],
   "source": [
    "nameList.remove('Gregorio')\n",
    "print(f'{nameList}')"
   ]
  },
  {
   "attachments": {},
   "cell_type": "markdown",
   "metadata": {},
   "source": [
    "Si se desea eliminar un elemento de una lista en función de su posición en el índice, se puede utilizar la palabra clave ```del``` para eliminar ese elemento. La sintaxis de la palabra clave ```del``` es:  \n",
    "```python\n",
    "    del someList[index]\n",
    "```\n",
    "La palabra clave ```del``` también puede eliminar toda la lista si no incluye el índice."
   ]
  },
  {
   "cell_type": "code",
   "execution_count": 25,
   "metadata": {},
   "outputs": [
    {
     "name": "stdout",
     "output_type": "stream",
     "text": [
      "['Amelia', 'Rosa', 'Diego', 'Ursula', 'Patricia']\n"
     ]
    }
   ],
   "source": [
    "del nameList[2]\n",
    "print(f'{nameList}')"
   ]
  },
  {
   "cell_type": "code",
   "execution_count": 26,
   "metadata": {},
   "outputs": [
    {
     "ename": "NameError",
     "evalue": "name 'nameList' is not defined",
     "output_type": "error",
     "traceback": [
      "\u001b[0;31m---------------------------------------------------------------------------\u001b[0m",
      "\u001b[0;31mNameError\u001b[0m                                 Traceback (most recent call last)",
      "\u001b[1;32m/home/edwin/Workspace/Worshop_Python_UNAM/Workshop_python.ipynb Cell 36\u001b[0m in \u001b[0;36m<cell line: 2>\u001b[0;34m()\u001b[0m\n\u001b[1;32m      <a href='vscode-notebook-cell:/home/edwin/Workspace/Worshop_Python_UNAM/Workshop_python.ipynb#X46sZmlsZQ%3D%3D?line=0'>1</a>\u001b[0m \u001b[39mdel\u001b[39;00m nameList\n\u001b[0;32m----> <a href='vscode-notebook-cell:/home/edwin/Workspace/Worshop_Python_UNAM/Workshop_python.ipynb#X46sZmlsZQ%3D%3D?line=1'>2</a>\u001b[0m \u001b[39mprint\u001b[39m(\u001b[39mf\u001b[39m\u001b[39m'\u001b[39m\u001b[39m{\u001b[39;00mnameList\u001b[39m}\u001b[39;00m\u001b[39m'\u001b[39m)\n",
      "\u001b[0;31mNameError\u001b[0m: name 'nameList' is not defined"
     ]
    }
   ],
   "source": [
    "del nameList\n",
    "print(f'{nameList}')"
   ]
  },
  {
   "attachments": {},
   "cell_type": "markdown",
   "metadata": {},
   "source": [
    "## Retirar en vez de Remover\n",
    "\n",
    "El método ```pop()``` tiene la siguiente sintaxis:  \n",
    "```python\n",
    "    pop(index)\n",
    "```\n",
    "Además, el método ```pop()``` devuelve el valor del elemento que se elimina de la lista."
   ]
  },
  {
   "cell_type": "code",
   "execution_count": 27,
   "metadata": {},
   "outputs": [
    {
     "name": "stdout",
     "output_type": "stream",
     "text": [
      "['manzana', 'plátano', 'naranja', 'mango']\n"
     ]
    }
   ],
   "source": [
    "fruitList = ['manzana', 'plátano', 'naranja', 'mango']\n",
    "print(f'{fruitList}')"
   ]
  },
  {
   "cell_type": "code",
   "execution_count": 28,
   "metadata": {},
   "outputs": [
    {
     "name": "stdout",
     "output_type": "stream",
     "text": [
      "['manzana', 'plátano', 'mango'] \n",
      "\n",
      "naranja\n"
     ]
    }
   ],
   "source": [
    "fruitDelete = fruitList.pop(2)\n",
    "print(f'{fruitList} \\n')\n",
    "print(f'{fruitDelete}')"
   ]
  },
  {
   "attachments": {},
   "cell_type": "markdown",
   "metadata": {},
   "source": [
    "| ```remove()``` | ```pop()``` | ```del``` |\n",
    "| --- | --- | --- |\n",
    "| Método |  Método | Palabra Clave |\n",
    "| Usa un valor |  Usa un índice | Usa un índice |\n",
    "| Un sólo elemento removido |  Un sólo elemento removido | Un sólo elemento removido o la lista entera eliminada |\n",
    "| No regresa el valor eliminado |  Regresa el valor eliminado | No regresa el valor eliminado |"
   ]
  },
  {
   "attachments": {},
   "cell_type": "markdown",
   "metadata": {},
   "source": [
    "## Ordenando Listas\n",
    "\n",
    "Python incluye el método ```sort``` que nos permite ordenar los valores de una lista o copiar una lista.\n",
    "\n",
    "Por defecto, el método ```sort``` ordenará los valores de una lista alfabéticamente (texto) o en orden ascendente (para números)."
   ]
  },
  {
   "cell_type": "code",
   "execution_count": 29,
   "metadata": {},
   "outputs": [
    {
     "name": "stdout",
     "output_type": "stream",
     "text": [
      "['Miriam', 'María', 'David', 'Nicolas']\n"
     ]
    }
   ],
   "source": [
    "nameList = ['Miriam', 'María', 'David', 'Nicolas']\n",
    "print(f'{nameList}')"
   ]
  },
  {
   "cell_type": "code",
   "execution_count": 30,
   "metadata": {},
   "outputs": [
    {
     "name": "stdout",
     "output_type": "stream",
     "text": [
      "['David', 'María', 'Miriam', 'Nicolas']\n"
     ]
    }
   ],
   "source": [
    "nameList.sort()\n",
    "print(f'{nameList}')"
   ]
  },
  {
   "attachments": {},
   "cell_type": "markdown",
   "metadata": {},
   "source": [
    "### Copiar una Lista\n",
    "\n",
    "Si queremos copiar una lista, una opción es asignar la lista a una nueva variable:  \n",
    "```python\n",
    "    numberListA = [1, 2, 3, 4, 5]\n",
    "    numberListB = numberListA\n",
    "```\n",
    "Obtendremos:\n",
    "```python\n",
    "    [1, 2, 3, 4, 5]\n",
    "    [1, 2, 3, 4, 5]\n",
    "```\n",
    "Una forma más eficiente de realizar una operación de copia como ésta es utilizar el método ```copy()```."
   ]
  },
  {
   "cell_type": "code",
   "execution_count": 31,
   "metadata": {},
   "outputs": [
    {
     "name": "stdout",
     "output_type": "stream",
     "text": [
      "[1, 2, 3, 4, 5, 6, 7, 8] \n",
      "\n",
      "[1, 2, 3, 4, 5, 6, 7, 8]\n"
     ]
    }
   ],
   "source": [
    "numberListA = [1,2,3,4,5,6,7,8]\n",
    "print(f'{numberListA} \\n')\n",
    "numberListB = numberListA\n",
    "print(f'{numberListA}')"
   ]
  },
  {
   "cell_type": "code",
   "execution_count": 32,
   "metadata": {},
   "outputs": [
    {
     "name": "stdout",
     "output_type": "stream",
     "text": [
      "[1, 2, 3, 4, 5, 6, 7, 8, 9] \n",
      "\n",
      "[1, 2, 3, 4, 5, 6, 7, 8, 9] \n",
      "\n"
     ]
    }
   ],
   "source": [
    "numberListA.append(9)\n",
    "print(f'{numberListA} \\n')\n",
    "print(f'{numberListB} \\n')"
   ]
  },
  {
   "cell_type": "code",
   "execution_count": 33,
   "metadata": {},
   "outputs": [
    {
     "name": "stdout",
     "output_type": "stream",
     "text": [
      "['Martha', 'Julia', 'Pedro']\n"
     ]
    }
   ],
   "source": [
    "nameListA = ['Martha', 'Julia', 'Pedro']\n",
    "print(f'{nameListA}')"
   ]
  },
  {
   "cell_type": "code",
   "execution_count": 34,
   "metadata": {},
   "outputs": [
    {
     "name": "stdout",
     "output_type": "stream",
     "text": [
      "['Martha', 'Julia', 'Pedro']\n"
     ]
    }
   ],
   "source": [
    "nameListB = nameListA.copy()\n",
    "print(f'{nameListB}')"
   ]
  },
  {
   "cell_type": "code",
   "execution_count": 35,
   "metadata": {},
   "outputs": [
    {
     "name": "stdout",
     "output_type": "stream",
     "text": [
      "['Martha', 'Julia', 'Pedro', 'Mauricio'] \n",
      "\n",
      "['Martha', 'Julia', 'Pedro'] \n",
      "\n"
     ]
    }
   ],
   "source": [
    "nameListA.append('Mauricio')\n",
    "print(f'{nameListA} \\n')\n",
    "print(f'{nameListB} \\n')"
   ]
  },
  {
   "attachments": {},
   "cell_type": "markdown",
   "metadata": {},
   "source": [
    "## Tuplas\n",
    "\n",
    "Las Tuplas son una colección que te permitirá tener duplicados, los valores están ordenados y son inmutables.\n",
    "\n",
    "La mayor diferencia entre una tupla y una lista es que una tupla es inmutable, lo que significa que no podemos añadir o eliminar elementos de una tupla después de haberla definido. Sin embargo, al igual que con las listas, podemos:  \n",
    "- Almacenar valores de cualquier tipo de datos, incluyendo diferentes tipos de datos en la misma tupla.\n",
    "- Calcular la longitud de una tupla.\n",
    "- Utilizar valores índice para recuperar elementos específicos de una tupla.\n",
    "- Cortar tuplas para recuperar varios elementos al mismo tiempo.\n",
    "\n",
    "La sintaxis básica de una tupla es:  \n",
    "```python\n",
    "    thisTuple = ('element1', 'element2', 'element3', ...)\n",
    "```\n",
    "Podemos utilizar cualquier tipo de dato en una tupla, y podemos mezclar tipos de datos en una misma tupla."
   ]
  },
  {
   "cell_type": "code",
   "execution_count": 36,
   "metadata": {},
   "outputs": [
    {
     "name": "stdout",
     "output_type": "stream",
     "text": [
      "<class 'tuple'>\n",
      "(1, 2, 3, 4, 5, 6, 7, 8) \n",
      "\n",
      "<class 'tuple'>\n",
      "('María', 'Rosa', 'Julio', 'Mario') \n",
      "\n",
      "<class 'tuple'>\n",
      "('María-A0843', 32, 'Ciudad de México', 4.56) \n",
      "\n"
     ]
    }
   ],
   "source": [
    "numberTuple = (1, 2, 3, 4, 5, 6, 7, 8)\n",
    "print(type(numberTuple))\n",
    "print(f'{numberTuple} \\n')\n",
    "stringTuple = ('María', 'Rosa', 'Julio', 'Mario')\n",
    "print(type(stringTuple))\n",
    "print(f'{stringTuple} \\n')\n",
    "mixTuple = ('María-A0843', 32, 'Ciudad de México', 4.56)\n",
    "print(type(mixTuple))\n",
    "print(f'{mixTuple} \\n')"
   ]
  },
  {
   "attachments": {},
   "cell_type": "markdown",
   "metadata": {},
   "source": [
    "### Longitud de una Tupla\n",
    "\n",
    "Podemos utilizar el método ```len()``` para calcular el número de elementos de una tupla. La sintaxis es:  \n",
    "```python\n",
    "    len(tupla)\n",
    "```"
   ]
  },
  {
   "cell_type": "code",
   "execution_count": 37,
   "metadata": {},
   "outputs": [
    {
     "name": "stdout",
     "output_type": "stream",
     "text": [
      "La longitud de la tupla numberTuple es: 8.\n"
     ]
    }
   ],
   "source": [
    "lengthTuple = len(numberTuple)\n",
    "print(f'La longitud de la tupla numberTuple es: {lengthTuple}.')"
   ]
  },
  {
   "attachments": {},
   "cell_type": "markdown",
   "metadata": {},
   "source": [
    "### Acceder a los elementos de una Tupla\n",
    "\n",
    "Python asigna un valor de índice a cada elemento de una tupla, comenzando con el valor 0 para el primer elemento y continuando con valores secuenciales para los elementos restantes.\n",
    "\n",
    "El último elemento tiene un valor de índice igual a la longitud de la tupla menos 1. Podemos utilizar estos valores para recuperar elementos específicos de la lista, utilizando la siguiente sintaxis:  \n",
    "```python\n",
    "    someTuple[index_value]\n",
    "```\n",
    "Si intentamos recuperar un elemento utilizando un índice fuera del rango definido, Python informará de un error."
   ]
  },
  {
   "cell_type": "code",
   "execution_count": 39,
   "metadata": {},
   "outputs": [
    {
     "name": "stdout",
     "output_type": "stream",
     "text": [
      "El elemento mixTuple[0] es María-A0843\n",
      "El elemento mixTuple[1] es 32\n",
      "El elemento mixTuple[2] es Ciudad de México\n",
      "El elemento mixTuple[3] es 4.56\n"
     ]
    },
    {
     "ename": "IndexError",
     "evalue": "tuple index out of range",
     "output_type": "error",
     "traceback": [
      "\u001b[0;31m---------------------------------------------------------------------------\u001b[0m",
      "\u001b[0;31mIndexError\u001b[0m                                Traceback (most recent call last)",
      "\u001b[1;32m/home/edwin/Workspace/Worshop_Python_UNAM/Workshop_python.ipynb Cell 55\u001b[0m in \u001b[0;36m<cell line: 5>\u001b[0;34m()\u001b[0m\n\u001b[1;32m      <a href='vscode-notebook-cell:/home/edwin/Workspace/Worshop_Python_UNAM/Workshop_python.ipynb#Y104sZmlsZQ%3D%3D?line=2'>3</a>\u001b[0m \u001b[39mprint\u001b[39m(\u001b[39mf\u001b[39m\u001b[39m'\u001b[39m\u001b[39mEl elemento mixTuple[2] es \u001b[39m\u001b[39m{\u001b[39;00mmixTuple[\u001b[39m2\u001b[39m]\u001b[39m}\u001b[39;00m\u001b[39m'\u001b[39m)\n\u001b[1;32m      <a href='vscode-notebook-cell:/home/edwin/Workspace/Worshop_Python_UNAM/Workshop_python.ipynb#Y104sZmlsZQ%3D%3D?line=3'>4</a>\u001b[0m \u001b[39mprint\u001b[39m(\u001b[39mf\u001b[39m\u001b[39m'\u001b[39m\u001b[39mEl elemento mixTuple[3] es \u001b[39m\u001b[39m{\u001b[39;00mmixTuple[\u001b[39m3\u001b[39m]\u001b[39m}\u001b[39;00m\u001b[39m'\u001b[39m)\n\u001b[0;32m----> <a href='vscode-notebook-cell:/home/edwin/Workspace/Worshop_Python_UNAM/Workshop_python.ipynb#Y104sZmlsZQ%3D%3D?line=4'>5</a>\u001b[0m \u001b[39mprint\u001b[39m(\u001b[39mf\u001b[39m\u001b[39m'\u001b[39m\u001b[39mEl elemento mixTuple[4] es \u001b[39m\u001b[39m{\u001b[39;00mmixTuple[\u001b[39m4\u001b[39m]\u001b[39m}\u001b[39;00m\u001b[39m'\u001b[39m)\n",
      "\u001b[0;31mIndexError\u001b[0m: tuple index out of range"
     ]
    }
   ],
   "source": [
    "print(f'El elemento mixTuple[0] es {mixTuple[0]}')\n",
    "print(f'El elemento mixTuple[1] es {mixTuple[1]}')\n",
    "print(f'El elemento mixTuple[2] es {mixTuple[2]}')\n",
    "print(f'El elemento mixTuple[3] es {mixTuple[3]}')\n",
    "print(f'El elemento mixTuple[4] es {mixTuple[4]}')"
   ]
  },
  {
   "attachments": {},
   "cell_type": "markdown",
   "metadata": {},
   "source": [
    "### Cortando Tuplas\n",
    "\n",
    "Python soporta cortar tuplas, lo que nos permite recuperar un rango de múltiples elementos de la tupla con un solo comando. Utilizamos la sintaxis ```tupla[rango]``` para recuperar un rango de elementos de una tupla.\n",
    "\n",
    "Las opciones son:\n",
    "\n",
    "- ```tuple[x:y]```: Recupera un intervalo de valores que comienza con el índice x y termina con el elemento situado antes del índice y. \n",
    "- ```tupla[:y]```: Recupera los elementos desde el índice 0 hasta el elemento anterior al índice y. Esto equivale a utilizar ```[0:y]```.\n",
    "- ```tupla[x:]```: Recupera una cadena que comienza con el elemento cuyo índice es x e incluye todos los elementos a la derecha de ese carácter. Esto equivale a utilizar ```[x:(longitud)]```."
   ]
  },
  {
   "cell_type": "code",
   "execution_count": 40,
   "metadata": {},
   "outputs": [
    {
     "name": "stdout",
     "output_type": "stream",
     "text": [
      "(1, 2, 3, 4, 5, 6, 7, 8) \n",
      "\n",
      "(3, 4, 5) \n",
      "\n"
     ]
    }
   ],
   "source": [
    "corteA = numberTuple[2:5]\n",
    "print(f'{numberTuple} \\n')\n",
    "print(f'{corteA} \\n')"
   ]
  },
  {
   "cell_type": "code",
   "execution_count": 41,
   "metadata": {},
   "outputs": [
    {
     "name": "stdout",
     "output_type": "stream",
     "text": [
      "(1, 2, 3, 4, 5, 6, 7, 8) \n",
      "\n",
      "(1, 2, 3, 4) \n",
      "\n"
     ]
    }
   ],
   "source": [
    "corteB = numberTuple[:4]\n",
    "print(f'{numberTuple} \\n')\n",
    "print(f'{corteB} \\n')"
   ]
  },
  {
   "cell_type": "code",
   "execution_count": 42,
   "metadata": {},
   "outputs": [
    {
     "name": "stdout",
     "output_type": "stream",
     "text": [
      "(1, 2, 3, 4, 5, 6, 7, 8) \n",
      "\n",
      "(5, 6, 7, 8) \n",
      "\n"
     ]
    }
   ],
   "source": [
    "\n",
    "corteC = numberTuple[4:]\n",
    "print(f'{numberTuple} \\n')\n",
    "print(f'{corteC} \\n')"
   ]
  },
  {
   "attachments": {},
   "cell_type": "markdown",
   "metadata": {},
   "source": [
    "### Inmutabilidad\n",
    "\n",
    "Las tuplas son inmutables, lo que significa que no podemos añadir o eliminar elementos después de haber definido la tupla."
   ]
  },
  {
   "cell_type": "code",
   "execution_count": 43,
   "metadata": {},
   "outputs": [
    {
     "name": "stdout",
     "output_type": "stream",
     "text": [
      "('María', 'Rosa', 'Julio', 'Mario')\n"
     ]
    },
    {
     "ename": "AttributeError",
     "evalue": "'tuple' object has no attribute 'append'",
     "output_type": "error",
     "traceback": [
      "\u001b[0;31m---------------------------------------------------------------------------\u001b[0m",
      "\u001b[0;31mAttributeError\u001b[0m                            Traceback (most recent call last)",
      "\u001b[1;32m/home/edwin/Workspace/Worshop_Python_UNAM/Workshop_python.ipynb Cell 61\u001b[0m in \u001b[0;36m<cell line: 2>\u001b[0;34m()\u001b[0m\n\u001b[1;32m      <a href='vscode-notebook-cell:/home/edwin/Workspace/Worshop_Python_UNAM/Workshop_python.ipynb#Y113sZmlsZQ%3D%3D?line=0'>1</a>\u001b[0m \u001b[39mprint\u001b[39m(stringTuple)\n\u001b[0;32m----> <a href='vscode-notebook-cell:/home/edwin/Workspace/Worshop_Python_UNAM/Workshop_python.ipynb#Y113sZmlsZQ%3D%3D?line=1'>2</a>\u001b[0m stringTuple\u001b[39m.\u001b[39;49mappend(\u001b[39m'\u001b[39m\u001b[39mDavid\u001b[39m\u001b[39m'\u001b[39m)\n",
      "\u001b[0;31mAttributeError\u001b[0m: 'tuple' object has no attribute 'append'"
     ]
    }
   ],
   "source": [
    "print(stringTuple)\n",
    "stringTuple.append('David')"
   ]
  },
  {
   "attachments": {},
   "cell_type": "markdown",
   "metadata": {},
   "source": [
    "De modo que las tuplas no soportan los métodos ```append()```, ```insert()```, ```remove()``` ```pop()``` y la palabra clave ```del```."
   ]
  },
  {
   "attachments": {},
   "cell_type": "markdown",
   "metadata": {},
   "source": [
    "### Realizar búsquedas en una Tupla\n",
    "\n",
    "Los operadores ```for``` e ```in``` funcionan con tuplas del mismo modo que con listas:\n",
    "- ```for``` recorre los elementos de la tupla.\n",
    "- ```in``` examina cada elemento para determinar su valor.\n",
    "\n",
    "Al igual que con las listas, podemos combinar ```for``` e ```in``` para determinar no sólo si un elemento está en una tupla o no, sino también cuántas veces aparece ese valor específico."
   ]
  },
  {
   "cell_type": "code",
   "execution_count": 44,
   "metadata": {},
   "outputs": [
    {
     "name": "stdout",
     "output_type": "stream",
     "text": [
      "('María', 'Julia', 'Mario', 'Julia', 'Edgar', 'Mauricio', 'Rosa') \n",
      "\n",
      "Se buscará este nombre: Julia \n",
      "\n"
     ]
    }
   ],
   "source": [
    "nameTuple = ('María', 'Julia', 'Mario', 'Julia', 'Edgar', 'Mauricio', 'Rosa')\n",
    "searchName = 'Julia'\n",
    "print(f'{nameTuple} \\n')\n",
    "print(f'Se buscará este nombre: {searchName} \\n')"
   ]
  },
  {
   "cell_type": "code",
   "execution_count": 45,
   "metadata": {},
   "outputs": [
    {
     "name": "stdout",
     "output_type": "stream",
     "text": [
      "Se encontró a Julia\n",
      "Se encontró a Julia\n"
     ]
    }
   ],
   "source": [
    "for name in nameTuple:\n",
    "    if name == searchName:\n",
    "        print(f'Se encontró a {searchName}')"
   ]
  },
  {
   "cell_type": "code",
   "execution_count": 46,
   "metadata": {},
   "outputs": [
    {
     "name": "stdout",
     "output_type": "stream",
     "text": [
      "El nombre de Julia aparece 2 veces\n"
     ]
    }
   ],
   "source": [
    "countName = 0\n",
    "for name in nameTuple:\n",
    "    if name == searchName:\n",
    "        countName += 1\n",
    "print(f'El nombre de {searchName} aparece {countName} veces')"
   ]
  },
  {
   "attachments": {},
   "cell_type": "markdown",
   "metadata": {},
   "source": [
    "La sentencia ```if``` se puede usar para ver si un valor está dentro de la tupla utilizando el formato:\n",
    "```python\n",
    "    if <item> in <tuple>\n",
    "```"
   ]
  },
  {
   "cell_type": "code",
   "execution_count": 47,
   "metadata": {},
   "outputs": [
    {
     "name": "stdout",
     "output_type": "stream",
     "text": [
      "El nombre \"Julia\" se encuentra dentro de la tupla.\n"
     ]
    }
   ],
   "source": [
    "if searchName in nameTuple:\n",
    "    print(f'El nombre \\\"{searchName}\\\" se encuentra dentro de la tupla.')"
   ]
  },
  {
   "attachments": {},
   "cell_type": "markdown",
   "metadata": {},
   "source": [
    "## Diccionarios\n",
    "\n",
    "Python también admite el uso de diccionarios, que nos dan la capacidad de definir los valores de índice nosotros mismos, y conjuntos, que no están organizados ni indexados.\n",
    "\n",
    "Un diccionario es una colección de elementos con claves definidas:\n",
    "- La clave actúa como un índice único, que no tiene por qué ser un número entero, y cada clave corresponde a un valor específico en el diccionario.\n",
    "-  Cada elemento de un diccionario es un par formado por una clave y un valor.\n",
    "-  Los diccionarios no están ordenados. Los diccionarios se escriben con llaves {}.\n",
    "\n",
    "A diferencia de otros tipos de datos que almacenan un único valor como elemento, el diccionario almacena pares `clave: valor` como elementos individuales: debemos definir tanto la clave como el valor para cada elemento de un diccionario.\n",
    "\n",
    "Se puede acceder a la lista de claves o valores de forma independiente, permitiendo un índice más significativo que podemos utilizar para recuperar y gestionar los datos almacenados en una colección.\n",
    "\n",
    "No podemos tener claves duplicadas en un diccionario, ya que cada clave debe ser única. No existe un orden definido entre los elementos de un diccionario.\n",
    "\n",
    "La sintaxis básica de un diccionario es:  \n",
    "```python\n",
    "    nameDictionary = {\n",
    "        'key1': 'value1',\n",
    "        'key2': 'value2',\n",
    "        'key3': 'value3'\n",
    "    }\n",
    "```\n",
    "El lenguaje Python incluye varios métodos para trabajar con diccionarios.\n",
    "\n",
    "| Método | Descripción |\n",
    "| --- | --- |\n",
    "| `keys()` | Devuelve una lista con las claves del diccionario |\n",
    "| `items()` | Devuelve una lista que contiene una tupla por cada par `clave: valor`. |\n",
    "| `values()` | Devuelve una lista con todos los valores del diccionario |\n",
    "| `get()` | Devuelve el valor de la clave especificada. |\n",
    "| `pop()` | Elimina el elemento con la clave especificada. |\n",
    "| `update()` | Actualiza el diccionario con los pares clave: valor especificados. |\n",
    "| `copy()` | Devuelve una copia del diccionario. |\n",
    "| `clear()` | Elimina todos los elementos del diccionario. |"
   ]
  },
  {
   "attachments": {},
   "cell_type": "markdown",
   "metadata": {},
   "source": [
    "### Crear un Diccionario\n",
    "\n",
    "Para crear un diccionario y sus pares `clave: valor` se procede de la siguiente manera:\n",
    "- El diccionario se nombra utilizando una variable, tal y como hemos hecho en ejemplos anteriores.\n",
    "- La colección de datos se incluye entre llaves {}.\n",
    "- Cada elemento se define utilizando la sintaxis `'clave': valor`.\n",
    "- Los elementos se separan por comas."
   ]
  },
  {
   "cell_type": "code",
   "execution_count": 49,
   "metadata": {},
   "outputs": [
    {
     "name": "stdout",
     "output_type": "stream",
     "text": [
      "{'Marca': 'Mercedes', 'Modelo': 'GLE', 'Año': 2021}\n"
     ]
    }
   ],
   "source": [
    "carDictionary = {\n",
    "    'Marca': 'Mercedes',\n",
    "    'Modelo': 'GLE',\n",
    "    'Año': 2021\n",
    "}\n",
    "#\n",
    "print(f'{carDictionary}')"
   ]
  },
  {
   "cell_type": "code",
   "execution_count": 50,
   "metadata": {},
   "outputs": [
    {
     "name": "stdout",
     "output_type": "stream",
     "text": [
      "{}\n"
     ]
    }
   ],
   "source": [
    "\n",
    "nameDictionary = dict()\n",
    "print(f'{nameDictionary}')"
   ]
  },
  {
   "cell_type": "code",
   "execution_count": 51,
   "metadata": {},
   "outputs": [
    {
     "name": "stdout",
     "output_type": "stream",
     "text": [
      "{'X1001': 'Martha', 'X1002': 'David', 'X1003': 'Edgar', 'X1004': 'Julia'}\n"
     ]
    }
   ],
   "source": [
    "nameDictionary = dict()\n",
    "#\n",
    "nameDictionary['X1001'] = 'Martha'\n",
    "nameDictionary['X1002'] = 'David'\n",
    "nameDictionary['X1003'] = 'Edgar'\n",
    "nameDictionary['X1004'] = 'Julia'\n",
    "#\n",
    "print(f'{nameDictionary}')"
   ]
  },
  {
   "attachments": {},
   "cell_type": "markdown",
   "metadata": {},
   "source": [
    "Agregando otra clave-valor y nombre:"
   ]
  },
  {
   "cell_type": "code",
   "execution_count": 53,
   "metadata": {},
   "outputs": [
    {
     "name": "stdout",
     "output_type": "stream",
     "text": [
      "{'X1001': 'Martha', 'X1002': 'David', 'X1003': 'Silvia', 'X1004': 'Julia'}\n"
     ]
    }
   ],
   "source": [
    "nameDictionary['X1003'] = 'Silvia'\n",
    "#\n",
    "print(f'{nameDictionary}')"
   ]
  },
  {
   "attachments": {},
   "cell_type": "markdown",
   "metadata": {},
   "source": [
    "Considere este ejemplo:"
   ]
  },
  {
   "cell_type": "code",
   "execution_count": 12,
   "metadata": {},
   "outputs": [
    {
     "name": "stdout",
     "output_type": "stream",
     "text": [
      "['MX-AGU', 'MX-CMX', 'MX-MEX', 'MX-OAX', 'MX-TAB', 'MX-VER'] \n",
      "\n",
      "['Aguascalientes', 'Ciudad de México', 'Estado de México', 'Oaxaca', 'Tabasco', 'Veracruz']\n"
     ]
    }
   ],
   "source": [
    "abbrevStateList = ['MX-AGU', 'MX-CMX', 'MX-MEX', 'MX-OAX', 'MX-TAB', 'MX-VER']\n",
    "#\n",
    "nameStateList = ['Aguascalientes', 'Ciudad de México', 'Estado de México', 'Oaxaca', 'Tabasco', 'Veracruz']\n",
    "#\n",
    "print(f'{abbrevStateList} \\n')\n",
    "print(f'{nameStateList}')"
   ]
  },
  {
   "cell_type": "code",
   "execution_count": 13,
   "metadata": {},
   "outputs": [
    {
     "name": "stdout",
     "output_type": "stream",
     "text": [
      "{'MX-AGU': 'Aguascalientes', 'MX-CMX': 'Ciudad de México', 'MX-MEX': 'Estado de México', 'MX-OAX': 'Oaxaca', 'MX-TAB': 'Tabasco', 'MX-VER': 'Veracruz'}\n"
     ]
    }
   ],
   "source": [
    "stateMexico = dict()\n",
    "for element in range(len(abbrevStateList)):\n",
    "    stateMexico[abbrevStateList[element]] = nameStateList[element]\n",
    "#\n",
    "print(f'{stateMexico}')"
   ]
  },
  {
   "cell_type": "code",
   "execution_count": 2,
   "metadata": {},
   "outputs": [
    {
     "name": "stdout",
     "output_type": "stream",
     "text": [
      "{'MX-AGU': 'Aguascalientes', 'MX-CMX': 'Ciudad de México', 'MX-MEX': 'Estado de México', 'MX-OAX': 'Oaxaca', 'MX-TAB': 'Tabasco', 'MX-VER': 'Veracruz'}\n"
     ]
    }
   ],
   "source": [
    "stateMexico = {\n",
    "    'MX-AGU': 'Aguascalientes',\n",
    "    'MX-CMX': 'Ciudad de México',\n",
    "    'MX-MEX': 'Estado de México',\n",
    "    'MX-OAX': 'Oaxaca',\n",
    "    'MX-TAB': 'Tabasco',\n",
    "    'MX-VER': 'Veracruz'\n",
    "}\n",
    "#\n",
    "print(f'{stateMexico}')"
   ]
  },
  {
   "attachments": {},
   "cell_type": "markdown",
   "metadata": {},
   "source": [
    "### Recuperar un elemento de un diccionario.\n",
    "\n",
    "Los diccionarios nos permiten analizar datos. Utilizando diccionarios, podemos hallar totales, medias medianas, etc. Podemos acceder a pares clave-valor específicos de un diccionario mediante la sintaxis `dictionaryName[clave]`."
   ]
  },
  {
   "cell_type": "code",
   "execution_count": 3,
   "metadata": {},
   "outputs": [
    {
     "name": "stdout",
     "output_type": "stream",
     "text": [
      "El elemento stateMex['MX-TAB'] es Tabasco\n",
      "\n",
      "El elemento stateMex['MX-CMX'] es Ciudad de México\n"
     ]
    }
   ],
   "source": [
    "print('El elemento stateMex[\\'MX-TAB\\'] es ' + stateMexico['MX-TAB'] + '\\n')\n",
    "#\n",
    "print('El elemento stateMex[\\'MX-CMX\\'] es ' + stateMexico['MX-CMX'])"
   ]
  },
  {
   "attachments": {},
   "cell_type": "markdown",
   "metadata": {},
   "source": [
    "### Usar el método `keys()`\n",
    "\n",
    "Podemos utilizar un bucle for para iterar a través de un diccionario utilizando el método keys(). La sintaxis de esto es:  \n",
    "```python\n",
    "    for id in dictionary.keys():\n",
    "        body\n",
    "```"
   ]
  },
  {
   "cell_type": "code",
   "execution_count": 4,
   "metadata": {},
   "outputs": [
    {
     "name": "stdout",
     "output_type": "stream",
     "text": [
      "Estado de Aguascalientes\n",
      "Estado de Ciudad de México\n",
      "Estado de Estado de México\n",
      "Estado de Oaxaca\n",
      "Estado de Tabasco\n",
      "Estado de Veracruz\n"
     ]
    }
   ],
   "source": [
    "for stateId in stateMexico.keys():\n",
    "    print('Estado de ' + stateMexico[stateId])"
   ]
  },
  {
   "attachments": {},
   "cell_type": "markdown",
   "metadata": {},
   "source": [
    "### Usar el método `items()`\n",
    "\n",
    "También podemos utilizar un ciclo `for` para iterar a través de un diccionario utilizando el método `items()`.\n",
    "\n",
    "Mientras que el método `keys()` funciona para recuperar valores de un diccionario, podemos utilizar el método `items()` para recuperar claves o valores."
   ]
  },
  {
   "cell_type": "code",
   "execution_count": 5,
   "metadata": {},
   "outputs": [
    {
     "name": "stdout",
     "output_type": "stream",
     "text": [
      "MX-AGU\n",
      "Aguascalientes\n",
      "------\n",
      "MX-CMX\n",
      "Ciudad de México\n",
      "------\n",
      "MX-MEX\n",
      "Estado de México\n",
      "------\n",
      "MX-OAX\n",
      "Oaxaca\n",
      "------\n",
      "MX-TAB\n",
      "Tabasco\n",
      "------\n",
      "MX-VER\n",
      "Veracruz\n",
      "------\n"
     ]
    }
   ],
   "source": [
    "for key, value in stateMexico.items():\n",
    "    print(key)\n",
    "    print(value)\n",
    "    print('------')"
   ]
  },
  {
   "attachments": {},
   "cell_type": "markdown",
   "metadata": {},
   "source": [
    "### Revisando los métodos `keys()`, `values()` y `items()`\n",
    "\n",
    "Podemos utilizar el método `keys()` o `values()` de la clase diccionario para recuperar las claves o los valores almacenados en un diccionario. Podemos utilizar `items()` para mostrar tanto las claves como los valores.\n",
    "\n",
    "- `keys()` devuelve una colección de cada una de las claves del diccionario.\n",
    "- `values()` devuelve una colección con cada uno de los valores del diccionario.\n",
    "- `items()` devuelve una colección con cada uno de los pares clave: valor del diccionario."
   ]
  },
  {
   "cell_type": "code",
   "execution_count": 6,
   "metadata": {},
   "outputs": [
    {
     "name": "stdout",
     "output_type": "stream",
     "text": [
      "Método keys(): \n",
      "dict_keys(['MX-AGU', 'MX-CMX', 'MX-MEX', 'MX-OAX', 'MX-TAB', 'MX-VER'])\n",
      "\n",
      " Método values(): \n",
      "dict_values(['Aguascalientes', 'Ciudad de México', 'Estado de México', 'Oaxaca', 'Tabasco', 'Veracruz'])\n",
      "\n",
      " Método items(): \n",
      "dict_items([('MX-AGU', 'Aguascalientes'), ('MX-CMX', 'Ciudad de México'), ('MX-MEX', 'Estado de México'), ('MX-OAX', 'Oaxaca'), ('MX-TAB', 'Tabasco'), ('MX-VER', 'Veracruz')])\n"
     ]
    }
   ],
   "source": [
    "print('Método keys(): ')\n",
    "print(stateMexico.keys())\n",
    "print('\\n Método values(): ')\n",
    "print(stateMexico.values())\n",
    "print('\\n Método items(): ')\n",
    "print(stateMexico.items())"
   ]
  },
  {
   "attachments": {},
   "cell_type": "markdown",
   "metadata": {},
   "source": [
    "**Separar un diccionario**"
   ]
  },
  {
   "cell_type": "code",
   "execution_count": 15,
   "metadata": {},
   "outputs": [
    {
     "name": "stdout",
     "output_type": "stream",
     "text": [
      "dict_keys(['MX-AGU', 'MX-CMX', 'MX-MEX', 'MX-OAX', 'MX-TAB', 'MX-VER'])\n",
      "['MX-AGU', 'MX-CMX', 'MX-MEX', 'MX-OAX', 'MX-TAB', 'MX-VER']\n",
      "================================\n",
      "dict_values(['Aguascalientes', 'Ciudad de México', 'Estado de México', 'Oaxaca', 'Tabasco', 'Veracruz'])\n",
      "['Aguascalientes', 'Ciudad de México', 'Estado de México', 'Oaxaca', 'Tabasco', 'Veracruz']\n"
     ]
    }
   ],
   "source": [
    "abbrevStateName = stateMexico.keys()\n",
    "print(abbrevStateName)\n",
    "\n",
    "# Convertirlos a una estructura de lista\n",
    "abbrevStateList = list(abbrevStateName)\n",
    "print(abbrevStateList)\n",
    "\n",
    "print('================================')\n",
    "nameStateMx = stateMexico.values()\n",
    "print(nameStateMx)\n",
    "\n",
    "# Convertirlos a una estructura de lista\n",
    "nameStateList = list(nameStateMx)\n",
    "print(nameStateList)"
   ]
  },
  {
   "attachments": {},
   "cell_type": "markdown",
   "metadata": {},
   "source": [
    "### Usar el método `get()`\n",
    "\n",
    "Podemos utilizar el método `get()` para acceder a un par *clave: valor* específico en un diccionario haciendo referencia al índice de ese par. Esta es una alternativa al uso de `dict_name[key]`."
   ]
  },
  {
   "cell_type": "code",
   "execution_count": 60,
   "metadata": {},
   "outputs": [
    {
     "name": "stdout",
     "output_type": "stream",
     "text": [
      "Estado de Aguascalientes\n"
     ]
    }
   ],
   "source": [
    "aguState = stateMexico.get('MX-AGU')\n",
    "print('Estado de ' + aguState)"
   ]
  },
  {
   "cell_type": "code",
   "execution_count": 61,
   "metadata": {},
   "outputs": [
    {
     "name": "stdout",
     "output_type": "stream",
     "text": [
      "Estado de Aguascalientes\n",
      "Estado de Ciudad de México\n",
      "Estado de Estado de México\n",
      "Estado de Oaxaca\n",
      "Estado de Tabasco\n",
      "Estado de Veracruz\n"
     ]
    }
   ],
   "source": [
    "\n",
    "for stateId in stateMexico.keys():\n",
    "    print('Estado de ' + stateMexico.get(stateId))"
   ]
  },
  {
   "attachments": {},
   "cell_type": "markdown",
   "metadata": {},
   "source": [
    "### Usar el método `pop()`\n",
    "\n",
    "Podemos utilizar el método `pop()` para eliminar y devolver un elemento de un diccionario dada una clave de entrada.\n",
    "\n",
    "A diferencia del método `get()`, `pop()` elimina el par *clave: valor* del diccionario.\n",
    "\n",
    "También podemos optar por almacenar el valor eliminado (sin la clave) en una variable separada para su reutilización."
   ]
  },
  {
   "cell_type": "code",
   "execution_count": 62,
   "metadata": {},
   "outputs": [
    {
     "name": "stdout",
     "output_type": "stream",
     "text": [
      "{'MX-AGU': 'Aguascalientes', 'MX-CMX': 'Ciudad de México', 'MX-MEX': 'Estado de México', 'MX-OAX': 'Oaxaca', 'MX-TAB': 'Tabasco', 'MX-VER': 'Veracruz'}\n",
      "{'MX-CMX': 'Ciudad de México', 'MX-MEX': 'Estado de México', 'MX-OAX': 'Oaxaca', 'MX-TAB': 'Tabasco', 'MX-VER': 'Veracruz'}\n",
      "El estado eliminado es Aguascalientes\n"
     ]
    }
   ],
   "source": [
    "print(stateMexico)\n",
    "estado = stateMexico.pop('MX-AGU')\n",
    "print(stateMexico)\n",
    "print(f'El estado eliminado es {estado}')"
   ]
  },
  {
   "attachments": {},
   "cell_type": "markdown",
   "metadata": {},
   "source": [
    "**Trabajar con el operador `in`**\n",
    "\n",
    "Podemos utilizar el operador `in` para comprobar si una clave existe en un diccionario."
   ]
  },
  {
   "cell_type": "code",
   "execution_count": 63,
   "metadata": {},
   "outputs": [
    {
     "name": "stdout",
     "output_type": "stream",
     "text": [
      "MX-AGU no existe en el diccionario.\n"
     ]
    }
   ],
   "source": [
    "keyState = 'MX-AGU'\n",
    "if keyState in stateMexico.keys():\n",
    "    print(keyState + ' existe en el diccionario.')\n",
    "    print('El estado mencionado es ' + stateMexico.get(keyState))\n",
    "else:\n",
    "    print(keyState + ' no existe en el diccionario.')"
   ]
  },
  {
   "cell_type": "code",
   "execution_count": 64,
   "metadata": {},
   "outputs": [
    {
     "name": "stdout",
     "output_type": "stream",
     "text": [
      "MX-VER existe en el diccionario.\n",
      "El estado mencionado es: Veracruz\n"
     ]
    }
   ],
   "source": [
    "keyState = 'MX-VER'\n",
    "if keyState in stateMexico.keys():\n",
    "    print(keyState + ' existe en el diccionario.')\n",
    "    print('El estado mencionado es: ' + stateMexico.get(keyState))\n",
    "else:\n",
    "    print(keyState + ' no existe en el diccionario.')"
   ]
  },
  {
   "attachments": {},
   "cell_type": "markdown",
   "metadata": {},
   "source": [
    "### Actualizar un diccionario\n",
    "\n",
    "Podemos utilizar el método `update()` para cambiar los valores de un diccionario. Al utilizar `update()`, la nueva entrada debe incluir la clave de la entrada que se está actualizando.\n",
    "\n",
    "Python reemplazará la entrada actual por la nueva si la clave ya existe. Si no existe una entrada con esa clave, Python añadirá una nueva entrada al diccionario."
   ]
  },
  {
   "cell_type": "code",
   "execution_count": 65,
   "metadata": {},
   "outputs": [
    {
     "name": "stdout",
     "output_type": "stream",
     "text": [
      "{'MX-CMX': 'Ciudad de México', 'MX-MEX': 'Estado de México', 'MX-OAX': 'Oaxaca', 'MX-TAB': 'Tabasco', 'MX-VER': 'Veracruz'}\n"
     ]
    }
   ],
   "source": [
    "print(stateMexico)"
   ]
  },
  {
   "cell_type": "code",
   "execution_count": 66,
   "metadata": {},
   "outputs": [
    {
     "name": "stdout",
     "output_type": "stream",
     "text": [
      "{'MX-CMX': 'CDMX', 'MX-MEX': 'Estado de México', 'MX-OAX': 'Oaxaca', 'MX-TAB': 'Tabasco', 'MX-VER': 'Veracruz'}\n"
     ]
    }
   ],
   "source": [
    "stateNew = {'MX-CMX': 'CDMX'}\n",
    "stateMexico.update(stateNew)\n",
    "print(stateMexico)"
   ]
  },
  {
   "cell_type": "code",
   "execution_count": 67,
   "metadata": {},
   "outputs": [
    {
     "name": "stdout",
     "output_type": "stream",
     "text": [
      "{'MX-CMX': 'CDMX', 'MX-MEX': 'Estado de México', 'MX-OAX': 'Oaxaca', 'MX-TAB': 'Tabasco', 'MX-VER': 'Veracruz', 'MX-AGU': 'Aguascalientes'}\n"
     ]
    }
   ],
   "source": [
    "\n",
    "stateNew = {'MX-AGU': 'Aguascalientes'}\n",
    "stateMexico.update(stateNew)\n",
    "print(stateMexico)"
   ]
  },
  {
   "attachments": {},
   "cell_type": "markdown",
   "metadata": {},
   "source": [
    "Otro ejemplo:"
   ]
  },
  {
   "cell_type": "code",
   "execution_count": 2,
   "metadata": {},
   "outputs": [
    {
     "name": "stdout",
     "output_type": "stream",
     "text": [
      "{'nombre': 'Mariela', 'cuentas': '', 'dirección': ''}\n"
     ]
    }
   ],
   "source": [
    "info = {\n",
    "    'nombre': 'Mariela',\n",
    "    'cuentas': '',\n",
    "    'dirección': ''\n",
    "}\n",
    "print(info)"
   ]
  },
  {
   "cell_type": "code",
   "execution_count": 3,
   "metadata": {},
   "outputs": [
    {
     "name": "stdout",
     "output_type": "stream",
     "text": [
      "{'nombre': 'Mariela Cruz', 'cuentas': ['Cheque', 'Ahorro', 'Préstamo'], 'dirección': 'Av. Universidad #23 Coyoacán, CDMX.'}\n"
     ]
    }
   ],
   "source": [
    "newNombre = {'nombre': 'Mariela Cruz'}\n",
    "newCuentas = {'cuentas': ['Cheque', 'Ahorro', 'Préstamo']}\n",
    "newDireccion = {'dirección': 'Av. Universidad #23 Coyoacán, CDMX.'}\n",
    "#\n",
    "info.update(newNombre)\n",
    "info.update(newCuentas)\n",
    "info.update(newDireccion)\n",
    "#\n",
    "print(info)"
   ]
  },
  {
   "cell_type": "code",
   "execution_count": 71,
   "metadata": {},
   "outputs": [
    {
     "name": "stdout",
     "output_type": "stream",
     "text": [
      "{'nombre': 'Julio Hernandez', 'cuentas': ['Cheque', 'Débito', 'Crédito'], 'dirección': 'Calle Tarascos #34 Coyoacán, CDMX'}\n"
     ]
    }
   ],
   "source": [
    "infoNew = {'nombre': 'Julio Hernandez', 'cuentas': ['Cheque', 'Débito', 'Crédito'], 'dirección': 'Calle Tarascos #34 Coyoacán, CDMX'}\n",
    "#\n",
    "info.update(infoNew)\n",
    "#\n",
    "print(infoNew)"
   ]
  },
  {
   "attachments": {},
   "cell_type": "markdown",
   "metadata": {},
   "source": [
    "### Duplicar un diccionario\n",
    "\n",
    "Tenemos dos opciones para duplicar un diccionario. La primera opción es simplemente hacer referencia al diccionario a través de otra variable."
   ]
  },
  {
   "cell_type": "code",
   "execution_count": 72,
   "metadata": {},
   "outputs": [
    {
     "name": "stdout",
     "output_type": "stream",
     "text": [
      "{'A0001': 'Ariadna', 'A0002': 'Miguel', 'A0003': 'Paola'}\n"
     ]
    }
   ],
   "source": [
    "studentRegister = dict()\n",
    "studentRegister['A0001'] = 'Ariadna'\n",
    "studentRegister['A0002'] = 'Miguel'\n",
    "studentRegister['A0003'] = 'Paola'\n",
    "print(studentRegister)"
   ]
  },
  {
   "cell_type": "code",
   "execution_count": 73,
   "metadata": {},
   "outputs": [
    {
     "name": "stdout",
     "output_type": "stream",
     "text": [
      "{'A0001': 'Ariadna', 'A0002': 'Miguel', 'A0003': 'Paola'}\n",
      "{'A0001': 'Ariadna', 'A0002': 'Miguel', 'A0003': 'Paola'}\n"
     ]
    }
   ],
   "source": [
    "studentRegisterBacking = studentRegister\n",
    "print(studentRegister)\n",
    "print(studentRegisterBacking)"
   ]
  },
  {
   "cell_type": "code",
   "execution_count": 74,
   "metadata": {},
   "outputs": [
    {
     "name": "stdout",
     "output_type": "stream",
     "text": [
      "{'A0001': 'Ariadna', 'A0002': 'Miguel', 'A0003': 'Pulina', 'A0004': 'Gerardo'}\n",
      "{'A0001': 'Ariadna', 'A0002': 'Miguel', 'A0003': 'Pulina', 'A0004': 'Gerardo'}\n"
     ]
    }
   ],
   "source": [
    "updateStudent = {'A0003': 'Pulina'}\n",
    "newStudent = {'A0004': 'Gerardo'}\n",
    "#\n",
    "studentRegister.update(updateStudent)\n",
    "studentRegister.update(newStudent)\n",
    "#\n",
    "print(studentRegister)\n",
    "print(studentRegisterBacking)"
   ]
  },
  {
   "cell_type": "code",
   "execution_count": 75,
   "metadata": {},
   "outputs": [
    {
     "name": "stdout",
     "output_type": "stream",
     "text": [
      "{'A0001': 'Ariadna', 'A0002': 'Miguel', 'A0003': 'Pulina', 'A0004': 'Gerardo'}\n"
     ]
    }
   ],
   "source": [
    "studentRegisterCopy = studentRegister.copy()\n",
    "print(studentRegisterCopy)"
   ]
  },
  {
   "cell_type": "code",
   "execution_count": 76,
   "metadata": {},
   "outputs": [
    {
     "name": "stdout",
     "output_type": "stream",
     "text": [
      "{'A0001': 'Ariadna', 'A0002': 'Miguel', 'A0003': 'Pulina', 'A0004': 'Gerardo'}\n",
      "{'A0001': 'Ariadna', 'A0002': 'Miguel Angel', 'A0003': 'Pulina', 'A0004': 'Gerardo', 'A0005': 'Karla'}\n"
     ]
    }
   ],
   "source": [
    "updateStudent = {'A0002': 'Miguel Angel'}\n",
    "newStudent = {'A0005': 'Karla'}\n",
    "#\n",
    "studentRegister.update(updateStudent)\n",
    "studentRegister.update(newStudent)\n",
    "#\n",
    "print(studentRegisterCopy)\n",
    "print(studentRegister)"
   ]
  },
  {
   "attachments": {},
   "cell_type": "markdown",
   "metadata": {},
   "source": [
    "### Limpiando un diccionario\n",
    "\n",
    "Podemos utilizar el método `clear()` para borrar todos los pares *clave: valor* de un diccionario. Este no borra la variable diccionario. Simplemente elimina todos los datos del diccionario.\n",
    "\n",
    "Esta función es particularmente útil si desea restablecer y reconstruir un diccionario para actualizar su contenido rápidamente."
   ]
  },
  {
   "cell_type": "code",
   "execution_count": 77,
   "metadata": {},
   "outputs": [
    {
     "name": "stdout",
     "output_type": "stream",
     "text": [
      "{'nombre': 'Julio Hernandez', 'cuentas': ['Cheque', 'Débito', 'Crédito'], 'dirección': 'Calle Tarascos #34 Coyoacán, CDMX'}\n",
      "{}\n"
     ]
    }
   ],
   "source": [
    "print(info)\n",
    "info.clear()\n",
    "print(info)"
   ]
  },
  {
   "attachments": {},
   "cell_type": "markdown",
   "metadata": {},
   "source": [
    "## Conjuntos\n",
    "\n",
    "Un conjunto es una colección desordenada y no indexada de elementos únicos. Específicamente:\n",
    "\n",
    "- Los valores almacenados en un conjunto no están indexados de ninguna manera. Para recuperar un elemento de un conjunto, se utiliza el propio valor, en lugar de un índice.\n",
    "- Cada elemento de un conjunto debe ser único. No se pueden incluir varios elementos con el mismo valor en el mismo conjunto.\n",
    "- El contenido de un conjunto no está ordenado. Puede añadir los elementos en el orden que desee, y Python normalmente los recuperará en un orden aleatorio diferente.\n",
    "\n",
    "\n",
    "Los pasos para crear un conjunto son similares a los utilizados para crear otras colecciones de datos, como listas y tuplas. La principal diferencia es el uso de llaves `{ }` para definir la colección como un conjunto.\n",
    "\n",
    "Es importante diferenciar los diccionarios de los conjuntos. Los diccionarios y los conjuntos son casi idénticos, salvo que los conjuntos no contienen valores: un conjunto es simplemente una colección de claves únicas."
   ]
  },
  {
   "attachments": {},
   "cell_type": "markdown",
   "metadata": {},
   "source": [
    "### Crear un Conjunto\n",
    "\n",
    "```python\n",
    "    setName = { 'Elements1', 'Elements3', 'Elements2', 'Elements7', ... }\n",
    "```"
   ]
  },
  {
   "cell_type": "code",
   "execution_count": 78,
   "metadata": {},
   "outputs": [
    {
     "name": "stdout",
     "output_type": "stream",
     "text": [
      "{'Diego', 'Marco', 'Natalia', 'Matilde'}\n"
     ]
    }
   ],
   "source": [
    "nameSet = {'Marco', 'Matilde', 'Diego', 'Natalia'}\n",
    "print(nameSet)"
   ]
  },
  {
   "attachments": {},
   "cell_type": "markdown",
   "metadata": {},
   "source": [
    "### Recuperando elementos de un conjunto\n",
    "\n",
    "Aunque almacenar los elementos únicos del conjunto es valioso, tener la capacidad de recuperar información del conjunto es igualmente importante.\n",
    "\n",
    "Podemos utilizar un ciclo `for` con `in` para iterar a través de un conjunto. Una vez más, dado que el conjunto no es ordenado, los elementos pueden aparecer en un orden diferente al que se añadieron al conjunto."
   ]
  },
  {
   "cell_type": "code",
   "execution_count": 79,
   "metadata": {},
   "outputs": [
    {
     "name": "stdout",
     "output_type": "stream",
     "text": [
      "{'Diego', 'Marco', 'Natalia', 'Matilde'}\n",
      "=================================================\n",
      "Diego\n",
      "Marco\n",
      "Natalia\n",
      "Matilde\n"
     ]
    }
   ],
   "source": [
    "print(nameSet)\n",
    "print('=================================================')\n",
    "#\n",
    "for name in nameSet:\n",
    "    print(name)"
   ]
  },
  {
   "attachments": {},
   "cell_type": "markdown",
   "metadata": {},
   "source": [
    "### Agregar elementos a un conjunto\n",
    "\n",
    "El método `add()` puede utilizarse para añadir nuevos elementos a un conjunto nuevo o existente, de modo que los datos puedan recuperarse más tarde cuando sea necesario."
   ]
  },
  {
   "cell_type": "code",
   "execution_count": 80,
   "metadata": {},
   "outputs": [
    {
     "name": "stdout",
     "output_type": "stream",
     "text": [
      "{'Diego', 'Marco', 'Natalia', 'Matilde'}\n",
      "=========================================\n",
      "{'Natalia', 'Diana', 'Gilberto', 'Silvia', 'Marco', 'Diego', 'Matilde'}\n"
     ]
    }
   ],
   "source": [
    "print(nameSet)\n",
    "print('=========================================')\n",
    "#\n",
    "nameSet.add('Diana')\n",
    "nameSet.add('Gilberto')\n",
    "nameSet.add('Silvia')\n",
    "#\n",
    "print(nameSet)"
   ]
  },
  {
   "attachments": {},
   "cell_type": "markdown",
   "metadata": {},
   "source": [
    "También podemos crear un conjunto vacío utilizando el método `set()`. Esto puede ser útil si necesitamos poner en escena un conjunto vacío al que pretendemos añadir datos más adelante."
   ]
  },
  {
   "cell_type": "code",
   "execution_count": 81,
   "metadata": {},
   "outputs": [
    {
     "name": "stdout",
     "output_type": "stream",
     "text": [
      "set()\n"
     ]
    }
   ],
   "source": [
    "vowelSet = set() \n",
    "print(vowelSet)"
   ]
  },
  {
   "cell_type": "code",
   "execution_count": 82,
   "metadata": {},
   "outputs": [
    {
     "name": "stdout",
     "output_type": "stream",
     "text": [
      "{'i', 'o', 'u', 'a', 'e'}\n"
     ]
    }
   ],
   "source": [
    "vowelSet.add('a')\n",
    "vowelSet.add('e')\n",
    "vowelSet.add('o')\n",
    "vowelSet.add('i')\n",
    "vowelSet.add('u')\n",
    "#\n",
    "print(vowelSet)"
   ]
  },
  {
   "attachments": {},
   "cell_type": "markdown",
   "metadata": {},
   "source": [
    "Cada elemento de un conjunto debe ser único dentro de ese conjunto. Los elementos duplicados serán ignorados."
   ]
  },
  {
   "cell_type": "code",
   "execution_count": 83,
   "metadata": {},
   "outputs": [
    {
     "name": "stdout",
     "output_type": "stream",
     "text": [
      "{'Natalia', 'Marco', 'Diego', 'Matilde'}\n"
     ]
    }
   ],
   "source": [
    "nameSet = {'Marco', 'Matilde', 'Natalia', 'Diego', 'Natalia'}\n",
    "print(nameSet)\n"
   ]
  },
  {
   "attachments": {},
   "cell_type": "markdown",
   "metadata": {},
   "source": [
    "### Buscar elementos en un conjunto\n",
    "\n",
    "Podemos utilizar el operador `in` para comprobar si un elemento existe en un conjunto. Esta operación devuelve el valor buleano `True` si el valor existe en el conjunto y `False` en caso contrario."
   ]
  },
  {
   "cell_type": "code",
   "execution_count": 84,
   "metadata": {},
   "outputs": [
    {
     "name": "stdout",
     "output_type": "stream",
     "text": [
      "{'MX-CMX', 'MX-TAB', 'MX-MEX', 'MX-OAX', 'MX-VER', 'MX-AGU'}\n"
     ]
    }
   ],
   "source": [
    "stateMexicoAbbrev = {\n",
    "    'MX-AGU',\n",
    "    'MX-CMX',\n",
    "    'MX-MEX',\n",
    "    'MX-OAX',\n",
    "    'MX-TAB',\n",
    "    'MX-VER'\n",
    "}\n",
    "print(stateMexicoAbbrev)\n"
   ]
  },
  {
   "cell_type": "code",
   "execution_count": 85,
   "metadata": {},
   "outputs": [
    {
     "name": "stdout",
     "output_type": "stream",
     "text": [
      "False\n",
      "True\n",
      "False\n"
     ]
    }
   ],
   "source": [
    "print('MX-CH' in stateMexicoAbbrev)\n",
    "print('MX-TAB' in stateMexicoAbbrev)\n",
    "print('MX-ZAC' in stateMexicoAbbrev)"
   ]
  },
  {
   "attachments": {},
   "cell_type": "markdown",
   "metadata": {},
   "source": [
    "### La longitud de un conjunto\n",
    "\n",
    "Podemos utilizar el método `len()` para calcular el número de elementos de un conjunto."
   ]
  },
  {
   "cell_type": "code",
   "execution_count": 86,
   "metadata": {},
   "outputs": [
    {
     "name": "stdout",
     "output_type": "stream",
     "text": [
      "La longitud del conjunto vowelSet es: 5.\n"
     ]
    }
   ],
   "source": [
    "lengthSet = len(vowelSet)\n",
    "print(f'La longitud del conjunto vowelSet es: {lengthSet}.')"
   ]
  },
  {
   "attachments": {},
   "cell_type": "markdown",
   "metadata": {},
   "source": [
    "### Eliminando elementos de un conjunto\n",
    "\n",
    "Podemos utilizar el método `discard()` o `remove()` para eliminar elementos de un conjunto. Estos métodos de métodos se comportan de manera diferente:\n",
    "- `discard()` no dará error si el elemento a eliminar no existe.\n",
    "- `remove()` producirá un error si el elemento a eliminar no existe."
   ]
  },
  {
   "cell_type": "code",
   "execution_count": 87,
   "metadata": {},
   "outputs": [
    {
     "name": "stdout",
     "output_type": "stream",
     "text": [
      "{'Empanadas', 'Pambazo', 'Chilaquiles', 'Tamales', 'Tacos', 'Birria'}\n"
     ]
    }
   ],
   "source": [
    "foodSet = {'Tacos', 'Chilaquiles', 'Pambazo', 'Tamales', 'Empanadas', 'Birria'}\n",
    "print(foodSet)"
   ]
  },
  {
   "cell_type": "code",
   "execution_count": 88,
   "metadata": {},
   "outputs": [
    {
     "name": "stdout",
     "output_type": "stream",
     "text": [
      "{'Empanadas', 'Pambazo', 'Chilaquiles', 'Tacos', 'Birria'}\n"
     ]
    }
   ],
   "source": [
    "foodSet.discard('Tamales')\n",
    "print(foodSet)"
   ]
  },
  {
   "cell_type": "code",
   "execution_count": 89,
   "metadata": {},
   "outputs": [
    {
     "name": "stdout",
     "output_type": "stream",
     "text": [
      "{'Pambazo', 'Chilaquiles', 'Tacos', 'Birria'}\n"
     ]
    }
   ],
   "source": [
    "foodSet.remove('Empanadas')\n",
    "print(foodSet)"
   ]
  },
  {
   "cell_type": "code",
   "execution_count": 90,
   "metadata": {},
   "outputs": [],
   "source": [
    "foodSet.discard('Tamales')"
   ]
  },
  {
   "cell_type": "code",
   "execution_count": 91,
   "metadata": {},
   "outputs": [
    {
     "ename": "KeyError",
     "evalue": "'Tamales'",
     "output_type": "error",
     "traceback": [
      "\u001b[0;31m---------------------------------------------------------------------------\u001b[0m",
      "\u001b[0;31mKeyError\u001b[0m                                  Traceback (most recent call last)",
      "\u001b[1;32m/home/edwin/Workspace/Worshop_Python_UNAM/Workshop_python.ipynb Cell 132\u001b[0m in \u001b[0;36m<cell line: 1>\u001b[0;34m()\u001b[0m\n\u001b[0;32m----> <a href='vscode-notebook-cell:/home/edwin/Workspace/Worshop_Python_UNAM/Workshop_python.ipynb#Y245sZmlsZQ%3D%3D?line=0'>1</a>\u001b[0m foodSet\u001b[39m.\u001b[39;49mremove(\u001b[39m'\u001b[39;49m\u001b[39mTamales\u001b[39;49m\u001b[39m'\u001b[39;49m)\n",
      "\u001b[0;31mKeyError\u001b[0m: 'Tamales'"
     ]
    }
   ],
   "source": [
    "foodSet.remove('Tamales')"
   ]
  },
  {
   "attachments": {},
   "cell_type": "markdown",
   "metadata": {},
   "source": [
    "### Limpiando un conjunto\n",
    "\n",
    "Podemos utilizar el método `clear()` para vaciar un conjunto. Esto es útil si queremos actualizar un conjunto existente con nuevos datos."
   ]
  },
  {
   "cell_type": "code",
   "execution_count": 92,
   "metadata": {},
   "outputs": [
    {
     "name": "stdout",
     "output_type": "stream",
     "text": [
      "{'MX-CMX', 'MX-TAB', 'MX-MEX', 'MX-OAX', 'MX-VER', 'MX-AGU'}\n",
      "\n",
      "\n",
      "set()\n"
     ]
    }
   ],
   "source": [
    "print(stateMexicoAbbrev)\n",
    "#\n",
    "stateMexicoAbbrev.clear()\n",
    "print('\\n')\n",
    "print(stateMexicoAbbrev)"
   ]
  },
  {
   "attachments": {},
   "cell_type": "markdown",
   "metadata": {},
   "source": [
    "### Retirar elementos de un conjunto\n",
    "\n",
    "Podemos utilizar el método `pop()` para devolver y eliminar el último elemento de un conjunto. Dado que los conjuntos desordenados, el elemento devuelto por el método `pop()` es aleatorio. El método `pop()` no toma un argumento, lo que significa que no se puede utilizar para eliminar un elemento específico del conjunto."
   ]
  },
  {
   "cell_type": "code",
   "execution_count": 95,
   "metadata": {},
   "outputs": [
    {
     "name": "stdout",
     "output_type": "stream",
     "text": [
      "{'Empanadas', 'Pambazo', 'Chilaquiles', 'Tamales', 'Tacos', 'Birria'}\n",
      "\n",
      " Comida eliminada: Empanadas \n",
      "\n",
      "{'Pambazo', 'Chilaquiles', 'Tamales', 'Tacos', 'Birria'}\n"
     ]
    }
   ],
   "source": [
    "foodSet = {'Tacos', 'Chilaquiles', 'Pambazo', 'Tamales', 'Empanadas', 'Birria'}\n",
    "print(foodSet)\n",
    "\n",
    "foodDelete = foodSet.pop()\n",
    "print(f'\\n Comida eliminada: {foodDelete} \\n')\n",
    "print(foodSet)"
   ]
  },
  {
   "attachments": {},
   "cell_type": "markdown",
   "metadata": {},
   "source": [
    "### Eliminar un conjunto\n",
    "\n",
    "Podemos utilizar la palabra clave `del` para borrar completamente un conjunto y su contenido. "
   ]
  },
  {
   "cell_type": "code",
   "execution_count": 96,
   "metadata": {},
   "outputs": [
    {
     "name": "stdout",
     "output_type": "stream",
     "text": [
      "{'Pambazo', 'Chilaquiles', 'Tamales', 'Tacos', 'Birria'}\n"
     ]
    },
    {
     "ename": "NameError",
     "evalue": "name 'foodSet' is not defined",
     "output_type": "error",
     "traceback": [
      "\u001b[0;31m---------------------------------------------------------------------------\u001b[0m",
      "\u001b[0;31mNameError\u001b[0m                                 Traceback (most recent call last)",
      "\u001b[1;32m/home/edwin/Workspace/Worshop_Python_UNAM/Workshop_python.ipynb Cell 138\u001b[0m in \u001b[0;36m<cell line: 4>\u001b[0;34m()\u001b[0m\n\u001b[1;32m      <a href='vscode-notebook-cell:/home/edwin/Workspace/Worshop_Python_UNAM/Workshop_python.ipynb#Y254sZmlsZQ%3D%3D?line=1'>2</a>\u001b[0m \u001b[39m#\u001b[39;00m\n\u001b[1;32m      <a href='vscode-notebook-cell:/home/edwin/Workspace/Worshop_Python_UNAM/Workshop_python.ipynb#Y254sZmlsZQ%3D%3D?line=2'>3</a>\u001b[0m \u001b[39mdel\u001b[39;00m foodSet\n\u001b[0;32m----> <a href='vscode-notebook-cell:/home/edwin/Workspace/Worshop_Python_UNAM/Workshop_python.ipynb#Y254sZmlsZQ%3D%3D?line=3'>4</a>\u001b[0m \u001b[39mprint\u001b[39m(foodSet)\n",
      "\u001b[0;31mNameError\u001b[0m: name 'foodSet' is not defined"
     ]
    }
   ],
   "source": [
    "print(foodSet)\n",
    "#\n",
    "del foodSet\n",
    "print(foodSet)"
   ]
  },
  {
   "attachments": {},
   "cell_type": "markdown",
   "metadata": {},
   "source": [
    "### Diferencia entre conjuntos\n",
    "\n",
    "A veces es importante saber qué ha cambiado o cuáles son las diferencias entre dos cosas. Esto también ocurre con los conjuntos.\n",
    "\n",
    "Podemos utilizar el método `difference()` para comparar dos conjuntos y devolver un conjunto que contenga los elementos que aparecen en el primer conjunto y no en el segundo."
   ]
  },
  {
   "cell_type": "code",
   "execution_count": 97,
   "metadata": {},
   "outputs": [],
   "source": [
    "fruitBasketA = {'Kiwi', 'Plátano', 'Fresa', 'Naranja', 'Manzana'}\n",
    "fruitBasketB = {'Fresa', 'Arándano', 'Limón', 'Plátano', 'Manzana'}\n",
    "fruitBasketC = fruitBasketA.difference(fruitBasketB)\n",
    "fruitBasketD = fruitBasketB.difference(fruitBasketA)"
   ]
  },
  {
   "cell_type": "code",
   "execution_count": 98,
   "metadata": {},
   "outputs": [
    {
     "name": "stdout",
     "output_type": "stream",
     "text": [
      "{'Manzana', 'Naranja', 'Plátano', 'Fresa', 'Kiwi'}\n",
      "{'Manzana', 'Limón', 'Plátano', 'Fresa', 'Arándano'}\n",
      "{'Kiwi', 'Naranja'}\n",
      "{'Limón', 'Arándano'}\n"
     ]
    }
   ],
   "source": [
    "print(fruitBasketA)\n",
    "print(fruitBasketB)\n",
    "print(fruitBasketC)\n",
    "print(fruitBasketD)"
   ]
  },
  {
   "attachments": {},
   "cell_type": "markdown",
   "metadata": {},
   "source": [
    "### Intersectar Conjuntos\n",
    "\n",
    "Podemos utilizar el método `intersection()` para calcular la intersección de dos o más conjuntos.\n",
    "\n",
    "El resultado incluye sólo los valores que ambos conjuntos tienen en común."
   ]
  },
  {
   "cell_type": "code",
   "execution_count": 99,
   "metadata": {},
   "outputs": [
    {
     "name": "stdout",
     "output_type": "stream",
     "text": [
      "{'Manzana', 'Naranja', 'Plátano', 'Fresa', 'Kiwi'}\n",
      "{'Manzana', 'Limón', 'Plátano', 'Fresa', 'Arándano'}\n"
     ]
    }
   ],
   "source": [
    "print(fruitBasketA)\n",
    "print(fruitBasketB)"
   ]
  },
  {
   "cell_type": "code",
   "execution_count": 100,
   "metadata": {},
   "outputs": [
    {
     "name": "stdout",
     "output_type": "stream",
     "text": [
      "{'Manzana', 'Fresa', 'Plátano'}\n"
     ]
    }
   ],
   "source": [
    "fruitBasketE = fruitBasketA.intersection(fruitBasketB)\n",
    "print(fruitBasketE)"
   ]
  },
  {
   "attachments": {},
   "cell_type": "markdown",
   "metadata": {},
   "source": [
    "### Combinar Conjuntos\n",
    "\n",
    "Podemos utilizar el método `union()` para calcular la unión de dos o más conjuntos. El resultado es un nuevo conjunto de elementos que existen en al menos uno de los conjuntos."
   ]
  },
  {
   "cell_type": "code",
   "execution_count": 101,
   "metadata": {},
   "outputs": [
    {
     "name": "stdout",
     "output_type": "stream",
     "text": [
      "{'Manzana', 'Naranja', 'Plátano', 'Fresa', 'Kiwi'}\n",
      "{'Manzana', 'Limón', 'Plátano', 'Fresa', 'Arándano'}\n",
      "{'Pera', 'Manzana', 'Frambuesa', 'Limón', 'Aguacate'}\n"
     ]
    }
   ],
   "source": [
    "\n",
    "fruitBasketA = {'Kiwi', 'Plátano', 'Fresa', 'Naranja', 'Manzana'}\n",
    "print(fruitBasketA)\n",
    "fruitBasketB = {'Fresa', 'Arándano', 'Limón', 'Plátano', 'Manzana'}\n",
    "print(fruitBasketB)\n",
    "fruitBasketC = {'Pera', 'Frambuesa', 'Limón', 'Aguacate', 'Manzana'}\n",
    "print(fruitBasketC)"
   ]
  },
  {
   "cell_type": "code",
   "execution_count": 102,
   "metadata": {},
   "outputs": [
    {
     "name": "stdout",
     "output_type": "stream",
     "text": [
      "{'Manzana', 'Naranja', 'Frambuesa', 'Fresa', 'Kiwi', 'Arándano', 'Pera', 'Limón', 'Plátano', 'Aguacate'}\n"
     ]
    }
   ],
   "source": [
    "fruitBasketF = fruitBasketA.union(fruitBasketB,fruitBasketC)\n",
    "print(fruitBasketF)"
   ]
  },
  {
   "attachments": {},
   "cell_type": "markdown",
   "metadata": {},
   "source": [
    "## Estructura de Datos: Pilas(FILO)\n",
    "\n",
    "La pila (stack) es una estructura lineal sobre la que rigen ciertas restricciones a la hora de agregar o quitar elementos; la pila es una estructura lineal restrictiva de tipo LIFO (Last In, First Out). Esto indica que el último elemento que ingresó a la pila debe ser el primero en salir.\n",
    "\n",
    "Implementaremos la pila sobre una lista para la cual solo desarrollaremos dos operaciones: poner (apilar un elemento, `push`) y sacar (desapilar y eliminar un elemento de la pila, `pop`).\n",
    "\n",
    "Se define también la operación pila vacía que retorna `true` o `false` según la pila tenga o no elementos apilados.\n",
    "\n",
    "![Pila](images/Pila.png)"
   ]
  },
  {
   "cell_type": "code",
   "execution_count": 173,
   "metadata": {},
   "outputs": [],
   "source": [
    "class Empty(Exception):\n",
    "    pass"
   ]
  },
  {
   "cell_type": "code",
   "execution_count": 174,
   "metadata": {},
   "outputs": [],
   "source": [
    "#IMPLEMENTACIÓN DE UNA PILA EN PYTHON.\n",
    "class ListStack:\n",
    "\n",
    "    def __init__(self):                 # CREA UNA PILA VACÍA\n",
    "        self._data=[]\n",
    "\n",
    "    def __len__(self):                  # RETORNA EL TAMAÑO DE LA PILA\n",
    "        return len(self._data)\n",
    "        \n",
    "    def isEmptyStack(self):             # VERIFICA SI LA PILA ESTÁ VACÍA\n",
    "        return len(self._data)==0\n",
    "\n",
    "    def push(self, element):            # REALIZA ACCIÓN DE APILAR\n",
    "        self._data.insert(0, element)\n",
    "\n",
    "    def top(self):                      # REGRESA EL ELEMENTO SUPERIOR DE LA PILA\n",
    "        if self.isEmptyStack():\n",
    "            raise Empty('Stack is empty')\n",
    "        return self._data[0]\n",
    "\n",
    "    def pop(self):                      # SACA ELEMENTOS DE LA PILA\n",
    "        if self.isEmptyStack():\n",
    "            raise Empty('Stack is empty')\n",
    "        return self._data.pop(0)\n",
    "\n",
    "    def showStack(self):                # VER ELEMENTOS DE LA PILA\n",
    "        print(self._data)"
   ]
  },
  {
   "cell_type": "code",
   "execution_count": 180,
   "metadata": {},
   "outputs": [
    {
     "name": "stdout",
     "output_type": "stream",
     "text": [
      "¿La pila está vacía? True\n",
      "[]\n"
     ]
    }
   ],
   "source": [
    "pilaA = ListStack()\n",
    "print(f'¿La pila está vacía? {pilaA.isEmptyStack()}')\n",
    "pilaA.showStack()"
   ]
  },
  {
   "cell_type": "code",
   "execution_count": 181,
   "metadata": {},
   "outputs": [
    {
     "name": "stdout",
     "output_type": "stream",
     "text": [
      "['a']\n",
      "El elemento top de la pila es a.\n",
      "['b', 'a']\n",
      "El elemento top de la pila es b.\n",
      "['c', 'b', 'a']\n",
      "El elemento top de la pila es c.\n",
      "['d', 'c', 'b', 'a']\n",
      "El elemento top de la pila es d.\n",
      "['e', 'd', 'c', 'b', 'a']\n",
      "El elemento top de la pila es e.\n",
      "La pila tiene 5 elementos.\n"
     ]
    }
   ],
   "source": [
    "pilaA.push('a')\n",
    "pilaA.showStack()\n",
    "print(f'El elemento top de la pila es {pilaA.top()}.')\n",
    "pilaA.push('b')\n",
    "pilaA.showStack()\n",
    "print(f'El elemento top de la pila es {pilaA.top()}.')\n",
    "pilaA.push('c')\n",
    "pilaA.showStack()\n",
    "print(f'El elemento top de la pila es {pilaA.top()}.')\n",
    "pilaA.push('d')\n",
    "pilaA.showStack()\n",
    "print(f'El elemento top de la pila es {pilaA.top()}.')\n",
    "pilaA.push('e')\n",
    "pilaA.showStack()\n",
    "print(f'El elemento top de la pila es {pilaA.top()}.')\n",
    "print(f'La pila tiene {len(pilaA)} elementos.')"
   ]
  },
  {
   "cell_type": "code",
   "execution_count": 182,
   "metadata": {},
   "outputs": [
    {
     "name": "stdout",
     "output_type": "stream",
     "text": [
      "['e', 'd', 'c', 'b', 'a']\n",
      "['d', 'c', 'b', 'a']\n",
      "['c', 'b', 'a']\n",
      "['b', 'a']\n",
      "['a']\n",
      "[]\n"
     ]
    }
   ],
   "source": [
    "pilaA.showStack()\n",
    "pilaA.pop()\n",
    "pilaA.showStack()\n",
    "pilaA.pop()\n",
    "pilaA.showStack()\n",
    "pilaA.pop()\n",
    "pilaA.showStack()\n",
    "pilaA.pop()\n",
    "pilaA.showStack()\n",
    "pilaA.pop()\n",
    "pilaA.showStack()"
   ]
  },
  {
   "attachments": {},
   "cell_type": "markdown",
   "metadata": {},
   "source": [
    "## Estructura de Datos: Colas (FIFO)\n",
    "\n",
    "La cola (queue) es también una estructura lineal restrictiva en la que solo podremos poner y sacar elementos respetando la siguiente restricción: el primer elemento en llegar a la cola será también el primero en salir (FIFO, First In First Out).\n",
    "\n",
    "Implementaremos la cola sobre una lista para la cual solo desarrollaremos dos operaciones: poner (encolar un elemento, `enqueue`) y sacar (desencolar y eliminar un elemento de la pila, `dequeue`).\n",
    "\n",
    "Se define también la operación cola vacía que retorna `true` o `false` según la pila tenga o no elementos encolados.\n",
    "\n",
    "![Cola](images/Coda.png)"
   ]
  },
  {
   "cell_type": "code",
   "execution_count": 184,
   "metadata": {},
   "outputs": [],
   "source": [
    "#IMPLEMENTACIÓN DE UNA COLA EN PYTHON.\n",
    "class ListQueue:\n",
    "    def __init__(self):                     # CREA UNA COLA VACÍA\n",
    "        self._data=[]\n",
    "\n",
    "    def __len__(self):                      # REGRESA EL NÚMERO DE ELEMENTOS QUE TIENE LA COLA\n",
    "        return len(self._data)\n",
    "\n",
    "    def isEmptyQueue(self):                 # VERIFICA SI LA COLA ESTÁ VACÍA\n",
    "        return len(self._data) == 0\n",
    "\n",
    "    def enqueue(self, element):             # REALIZA ACCIÓN DE ENCOLAR\n",
    "        self._data.append(element)\n",
    "\n",
    "    def first(self):                        # REGRESA EL PRIMER ELEMENTO DE LA COLA\n",
    "        if self.isEmptyQueue():\n",
    "            raise Empty('Queue is empty')\n",
    "        return self._data[0]\n",
    "\n",
    "    def dequeue(self):                      # SACA ELEMENTOS DE LA COLA\n",
    "        if self.isEmptyQueue():\n",
    "            raise Empty('Queue is empty')\n",
    "        return self._data.pop(0)\n",
    "\n",
    "    def showQueue(self):                    # VER ELEMENTOS DE LA COLA\n",
    "        print(self._data)"
   ]
  },
  {
   "cell_type": "code",
   "execution_count": 187,
   "metadata": {},
   "outputs": [
    {
     "name": "stdout",
     "output_type": "stream",
     "text": [
      "¿La cola está vacía? True\n",
      "[]\n"
     ]
    }
   ],
   "source": [
    "colaA = ListQueue()\n",
    "print(f'¿La cola está vacía? {colaA.isEmptyQueue()}')\n",
    "colaA.showQueue()"
   ]
  },
  {
   "cell_type": "code",
   "execution_count": 188,
   "metadata": {},
   "outputs": [
    {
     "name": "stdout",
     "output_type": "stream",
     "text": [
      "['a']\n",
      "El primer elemento de la cola es a.\n",
      "['a', 'b']\n",
      "El primer elemento de la cola es a.\n",
      "['a', 'b', 'c']\n",
      "El primer elemento de la cola es a.\n",
      "['a', 'b', 'c', 'd']\n",
      "El primer elemento de la cola es a.\n",
      "['a', 'b', 'c', 'd', 'e']\n",
      "El primer elemento de la cola es a.\n",
      "La cola tiene 5 elementos.\n"
     ]
    }
   ],
   "source": [
    "colaA.enqueue('a')\n",
    "colaA.showQueue()\n",
    "\n",
    "colaA.enqueue('b')\n",
    "colaA.showQueue()\n",
    "\n",
    "colaA.enqueue('c')\n",
    "colaA.showQueue()\n",
    "\n",
    "colaA.enqueue('d')\n",
    "colaA.showQueue()\n",
    "\n",
    "colaA.enqueue('e')\n",
    "colaA.showQueue()\n",
    "\n",
    "print(f'El primer elemento de la cola es {colaA.first()}.')\n",
    "print(f'La cola tiene {len(colaA)} elementos.')"
   ]
  },
  {
   "cell_type": "code",
   "execution_count": 189,
   "metadata": {},
   "outputs": [
    {
     "name": "stdout",
     "output_type": "stream",
     "text": [
      "['a', 'b', 'c', 'd', 'e']\n",
      "El primer elemento de la cola es a.\n",
      "['b', 'c', 'd', 'e']\n",
      "El primer elemento de la cola es b.\n",
      "['c', 'd', 'e']\n",
      "El primer elemento de la cola es c.\n",
      "['d', 'e']\n",
      "El primer elemento de la cola es d.\n",
      "['e']\n",
      "El primer elemento de la cola es e.\n",
      "[]\n"
     ]
    }
   ],
   "source": [
    "colaA.showQueue()\n",
    "print(f'El primer elemento de la cola es {colaA.first()}.')\n",
    "\n",
    "colaA.dequeue()\n",
    "colaA.showQueue()\n",
    "print(f'El primer elemento de la cola es {colaA.first()}.')\n",
    "\n",
    "colaA.dequeue()\n",
    "colaA.showQueue()\n",
    "print(f'El primer elemento de la cola es {colaA.first()}.')\n",
    "\n",
    "colaA.dequeue()\n",
    "colaA.showQueue()\n",
    "print(f'El primer elemento de la cola es {colaA.first()}.')\n",
    "\n",
    "colaA.dequeue()\n",
    "colaA.showQueue()\n",
    "print(f'El primer elemento de la cola es {colaA.first()}.')\n",
    "\n",
    "colaA.dequeue()\n",
    "colaA.showQueue()"
   ]
  },
  {
   "attachments": {},
   "cell_type": "markdown",
   "metadata": {},
   "source": [
    "## Listas Enlazadas\n",
    "\n",
    "La clase *lista* de Python está altamente optimizada, y a menudo es una gran elección para el almacenamiento. Dicho esto, hay algunas desventajas notables:\n",
    "\n",
    "1. La longitud de un array dinámico puede ser mayor que el número real de elementos que almacena.\n",
    "elementos que almacena.\n",
    "2. Las inserciones y supresiones en posiciones interiores de un array son caras.\n",
    "\n",
    "Tanto las secuencias basadas en arrays como las listas enlazadas mantienen los elementos en un cierto orden, pero utilizando un estilo muy diferente.\n",
    "\n",
    "Una lista enlazada es una colección de nodos que conjunto forman una secuencia lineal. Cada nodo almacena una referencia a un objeto que es un elemento de la secuencia, así como una referencia al siguiente nodo de la lista.\n",
    "\n",
    "![Nodo de una lista enlazada](images/linkedListA.png)\n",
    "\n",
    "El primer y el último nodo de una lista enlazada se conocen como cabeza y cola de la lista, respectivamente.\n",
    "\n",
    "![Lista enlazada](images/linkedListB.png)\n",
    "\n",
    "Podemos identificar la cola como el nodo cuya siguiente referencia es Ninguno. Este proceso se conoce comúnmente como recorrer la lista enlazada.\n",
    "\n",
    "Cada nodo se representa como un objeto único, y esa instancia almacena una referencia a su elemento y una referencia al nodo siguiente (o Ninguno).\n",
    "\n",
    "Otro objeto representa la lista enlazada en su conjunto. Como mínimo, la instancia de la lista enlazada debe mantener una referencia a la cabeza de la lista.\n",
    "\n",
    "Es habitual que la instancia de lista enlazada mantenga un recuento del número total de nodos que componen la lista (comúnmente descrito como el tamaño de la lista), para evitar la necesidad de recorrer la lista para contar los nodos."
   ]
  },
  {
   "attachments": {},
   "cell_type": "markdown",
   "metadata": {},
   "source": [
    "### Insertar un elemento en la Cabeza de una Lista Enlazada\n",
    "\n",
    "Una propiedad importante de las listas enlazadas es que no tienen un tamaño fijo predeterminado, sino que utilizan el espacio proporcionalmente a su número actual de elementos.\n",
    "\n",
    "Cuando usamos una lista enlazada, podemos insertar fácilmente un elemento en la cabeza de la lista.\n",
    "\n",
    "    Algorithm add_first(L, e)\n",
    "        newest = Node(e)        {crea una nueva instancia de Nodo que almacena la referencia al elemento e.} \n",
    "        newest_next = L.head    {establece el nuevo nodo siguiente para que haga referencia al nodo principal anterior.}\n",
    "        L.head = newest         {establece la variable *cabeza* para hacer referencia al nuevo nodo.}\n",
    "        L.size = L.size + 1     {Incrementa la cuenta de los nodos.}\n",
    "\n",
    "La idea principal es que creamos un nuevo nodo, establecemos su elemento en el nuevo elemento, establecemos su siguiente enlace para que haga referencia a la cabecera actual y, a continuación, establecemos la cabecera de la lista para que apunte al nuevo nodo.\n",
    "\n",
    "![Insertar elemento en la cabeza de una lista enlazada](images/linkedListC.png)"
   ]
  },
  {
   "attachments": {},
   "cell_type": "markdown",
   "metadata": {},
   "source": [
    "### Insertar un elemento en la Cola de una Lista Enlazada\n",
    "\n",
    "También podemos insertar fácilmente un elemento en la cola de la lista, siempre que mantengamos una referencia al nodo cola.\n",
    "\n",
    "En este caso, creamos un nuevo nodo, asignamos su siguiente referencia a *Ninguno*, establecemos la siguiente referencia de la cola para que apunte a este nuevo nodo, y luego actualizamos la propia referencia de la cola a este nuevo nodo.\n",
    "\n",
    "    Algorithm add_last(L, e)\n",
    "        newest = Node(e)        {crea una nueva instancia de Nodo que almacena la referencia al elemento e.} \n",
    "        newest_next = L.head    {establece el nuevo nodo siguiente para que haga referencia al objeto ninguno.}\n",
    "        L.tail = newest         {establece la variable *cola* para hacer referencia al nuevo nodo.}\n",
    "        L.size = L.size + 1     {Incrementa la cuenta de los nodos.}\n",
    "\n",
    "![Insertar elemento en la cola de una lista enlazada](images/linkedListD.png)"
   ]
  },
  {
   "attachments": {},
   "cell_type": "markdown",
   "metadata": {},
   "source": [
    "### Remover un elemento en la Cabeza de una Lista Enlazada\n",
    "\n",
    "Eliminar un elemento de la cabecera de una lista enlazada simple es esencialmente la operación inversa a insertar un nuevo elemento en la cabecera.\n",
    "\n",
    "    Algorithm remove_first(L):\n",
    "        if L.head is None then\n",
    "            Indicate an error: the list is empty\n",
    "        L.head = L.head.next         {hacer que la cabeza apunte al siguiente nodo (o a Ninguno).}\n",
    "        L.size = L.size - 1         {Decrementa la cuenta de los nodos.}\n",
    "\n",
    "No podemos eliminar fácilmente el último nodo de una lista enlazada.\n",
    "\n",
    "Incluso si mantenemos una referencia de cola directamente al último nodo de la lista, debemos ser capaces de acceder al nodo anterior al último nodo para eliminar el último nodo.\n",
    "\n",
    "Si queremos realizar esta operación de forma eficiente, tendremos que hacer nuestra lista doblemente enlazada.\n",
    "\n",
    "![Insertar elemento en la cola de una lista enlazada](images/linkedListE.png)"
   ]
  },
  {
   "cell_type": "markdown",
   "metadata": {},
   "source": [
    "### Implementación de la estructura de Pilas usando Listas Enlazadas"
   ]
  },
  {
   "cell_type": "code",
   "execution_count": 266,
   "metadata": {},
   "outputs": [],
   "source": [
    "class LinkedStack:\n",
    "# nested _Node class -------------------------------------\n",
    "    class _Node:\n",
    "\n",
    "        def __init__(self, element, next):          # Initialize node's fields\n",
    "            self._element = element                 # reference to user's element\n",
    "            self._next = next                       # reference to next node\n",
    "\n",
    "# Stack methods -----------------------------------------\n",
    "    # Create an empty stack\n",
    "    def __init__(self):\n",
    "        self._head = None                           # reference to the head node\n",
    "        self._size = 0                              # number of stack elements\n",
    "\n",
    "    def __len__(self):\n",
    "        #Return the number of elements in the stack\n",
    "        return self._size\n",
    "\n",
    "    def isEmpty(self):\n",
    "        # Return true if the stack is empty\n",
    "        return self._size == 0\n",
    "\n",
    "    def push(self, e):\n",
    "        # Add element e to the top of the stack\n",
    "        self._head = self._Node(e, self._head)      # create and link a new node\n",
    "        self._size += 1\n",
    "\n",
    "    def top(self):\n",
    "        # Return the element at the top of the stack\n",
    "        # Raise Empty exception if the stack is empty\n",
    "        if self.isEmpty():\n",
    "            raise Empty('Stack is empty')\n",
    "        return self._head._element                  # top of stack is at head of list\n",
    "\n",
    "    def pop(self):\n",
    "        # Remove and return the element from the top of the stack\n",
    "        # Raise Empty exception if the stack is empty\n",
    "        if self.isEmpty():\n",
    "            raise Empty('Stack is empty')\n",
    "        answer = self._head._element\n",
    "        self._head = self._head._next               # bypass the former top node\n",
    "        self._size -= 1\n",
    "        return answer\n",
    "\n",
    "    def printListStack(self):\n",
    "        # Print the elements of stack\n",
    "        print('\\n')\n",
    "        _Node = self._head\n",
    "        while _Node != None:\n",
    "            print(_Node._element, end =\" => \")\n",
    "            _Node = _Node._next"
   ]
  },
  {
   "cell_type": "code",
   "execution_count": 292,
   "metadata": {},
   "outputs": [
    {
     "name": "stdout",
     "output_type": "stream",
     "text": [
      "¿La pila está vacía? True\n"
     ]
    }
   ],
   "source": [
    "pilaB = LinkedStack()\n",
    "print(f'¿La pila está vacía? {pilaB.isEmpty()}')"
   ]
  },
  {
   "cell_type": "code",
   "execution_count": 293,
   "metadata": {},
   "outputs": [
    {
     "name": "stdout",
     "output_type": "stream",
     "text": [
      "\n",
      "\n",
      "1 => \n",
      "\n",
      "2 => 1 => \n",
      "\n",
      "3 => 2 => 1 => \n",
      "\n",
      "4 => 3 => 2 => 1 => \n",
      "\n",
      "5 => 4 => 3 => 2 => 1 => \n",
      "\n",
      "6 => 5 => 4 => 3 => 2 => 1 => \n",
      "El elemento top de pila es 6 elementos.\n",
      "La pila tiene 6 elementos.\n"
     ]
    }
   ],
   "source": [
    "pilaB.push(1)\n",
    "pilaB.printListStack()\n",
    "pilaB.push(2)\n",
    "pilaB.printListStack()\n",
    "pilaB.push(3)\n",
    "pilaB.printListStack()\n",
    "pilaB.push(4)\n",
    "pilaB.printListStack()\n",
    "pilaB.push(5)\n",
    "pilaB.printListStack()\n",
    "pilaB.push(6)\n",
    "pilaB.printListStack()\n",
    "print(f'\\nEl elemento top de pila es {pilaB.top()} elementos.')\n",
    "print(f'La pila tiene {pilaB.__len__()} elementos.')"
   ]
  },
  {
   "cell_type": "code",
   "execution_count": 294,
   "metadata": {},
   "outputs": [
    {
     "name": "stdout",
     "output_type": "stream",
     "text": [
      "\n",
      "\n",
      "6 => 5 => 4 => 3 => 2 => 1 => \n",
      "El elemento top de la pila es 6.\n",
      "\n",
      "\n",
      "5 => 4 => 3 => 2 => 1 => \n",
      "El elemento top de la pila es 5.\n",
      "\n",
      "\n",
      "4 => 3 => 2 => 1 => \n",
      "El elemento top de la pila es 4.\n",
      "\n",
      "\n",
      "3 => 2 => 1 => \n",
      "El elemento top de la pila es 3.\n",
      "\n",
      "\n",
      "2 => 1 => \n",
      "El elemento top de la pila es 2.\n",
      "\n",
      "\n",
      "1 => \n",
      "El elemento top de la pila es 1.\n"
     ]
    }
   ],
   "source": [
    "pilaB.printListStack()\n",
    "print(f'\\nEl elemento top de la pila es {pilaB.top()}.')\n",
    "pilaB.pop()\n",
    "pilaB.printListStack()\n",
    "print(f'\\nEl elemento top de la pila es {pilaB.top()}.')\n",
    "pilaB.pop()\n",
    "pilaB.printListStack()\n",
    "print(f'\\nEl elemento top de la pila es {pilaB.top()}.')\n",
    "pilaB.pop()\n",
    "pilaB.printListStack()\n",
    "print(f'\\nEl elemento top de la pila es {pilaB.top()}.')\n",
    "pilaB.pop()\n",
    "pilaB.printListStack()\n",
    "print(f'\\nEl elemento top de la pila es {pilaB.top()}.')\n",
    "pilaB.pop()\n",
    "pilaB.printListStack()\n",
    "print(f'\\nEl elemento top de la pila es {pilaB.top()}.')"
   ]
  },
  {
   "cell_type": "code",
   "execution_count": 254,
   "metadata": {},
   "outputs": [],
   "source": [
    "class LinkedQueue:\n",
    "# nested _Node class\n",
    "    class _Node:\n",
    "        def __init__(self, element, next):\n",
    "            self._element = element\n",
    "            self._next = next\n",
    "# Stack methods\n",
    "    def __init__(self):\n",
    "        self._head = None\n",
    "        self._tail = None\n",
    "        self._size = 0\n",
    "    def __len__(self):\n",
    "        return self._size\n",
    "    def isEmpty(self):\n",
    "        return self._size == 0\n",
    "    def enqueue(self, e):\n",
    "        newest = self._Node(e, None)\n",
    "        if self.isEmpty():\n",
    "            self._head = newest\n",
    "        else:\n",
    "            self._tail._next = newest\n",
    "        self._tail = newest\n",
    "        self._size += 1\n",
    "    def first(self):\n",
    "        if self.isEmpty():\n",
    "            raise Empty('Queue is empty')\n",
    "        return self._head._element\n",
    "    def dequeue(self):\n",
    "        if self.isEmpty():\n",
    "            raise Empty('Queue is empty')\n",
    "        answer = self._head._element\n",
    "        self._head = self._head._next\n",
    "        self._size -= 1\n",
    "        if self.isEmpty():\n",
    "            self._tail = None\n",
    "        return answer\n",
    "    def printListQueue(self):\n",
    "        print('\\n')\n",
    "        _Node = self._head\n",
    "        while _Node != None:\n",
    "            print(_Node._element, end =\" => \")\n",
    "            _Node = _Node._next"
   ]
  },
  {
   "cell_type": "code",
   "execution_count": 295,
   "metadata": {},
   "outputs": [
    {
     "name": "stdout",
     "output_type": "stream",
     "text": [
      "¿La cola está vacía? True\n"
     ]
    }
   ],
   "source": [
    "colaB = LinkedQueue()\n",
    "print(f'¿La cola está vacía? {colaB.isEmpty()}')"
   ]
  },
  {
   "cell_type": "code",
   "execution_count": 296,
   "metadata": {},
   "outputs": [
    {
     "name": "stdout",
     "output_type": "stream",
     "text": [
      "\n",
      "\n",
      "1 => \n",
      "\n",
      "1 => 2 => \n",
      "\n",
      "1 => 2 => 3 => \n",
      "\n",
      "1 => 2 => 3 => 4 => \n",
      "\n",
      "1 => 2 => 3 => 4 => 5 => \n",
      "\n",
      "1 => 2 => 3 => 4 => 5 => 6 => \n",
      "El primer elemento de la cola es 1.\n"
     ]
    }
   ],
   "source": [
    "colaB.enqueue(1)\n",
    "colaB.printListQueue()\n",
    "colaB.enqueue(2)\n",
    "colaB.printListQueue()\n",
    "colaB.enqueue(3)\n",
    "colaB.printListQueue()\n",
    "colaB.enqueue(4)\n",
    "colaB.printListQueue()\n",
    "colaB.enqueue(5)\n",
    "colaB.printListQueue()\n",
    "colaB.enqueue(6)\n",
    "colaB.printListQueue()\n",
    "print(f'\\nEl primer elemento de la cola es {colaB.first()}.')"
   ]
  },
  {
   "cell_type": "code",
   "execution_count": 297,
   "metadata": {},
   "outputs": [
    {
     "name": "stdout",
     "output_type": "stream",
     "text": [
      "\n",
      "\n",
      "1 => 2 => 3 => 4 => 5 => 6 => \n",
      "El primer elemento de la cola es 1.\n",
      "\n",
      "\n",
      "2 => 3 => 4 => 5 => 6 => \n",
      "El primer elemento de la cola es 2.\n",
      "\n",
      "\n",
      "3 => 4 => 5 => 6 => \n",
      "El primer elemento de la cola es 3.\n",
      "\n",
      "\n",
      "4 => 5 => 6 => \n",
      "El primer elemento de la cola es 4.\n",
      "\n",
      "\n",
      "5 => 6 => \n",
      "El primer elemento de la cola es 5.\n",
      "\n",
      "\n",
      "6 => \n",
      "El primer elemento de la cola es 6.\n",
      "\n",
      "\n"
     ]
    }
   ],
   "source": [
    "colaB.printListQueue()\n",
    "print(f'\\nEl primer elemento de la cola es {colaB.first()}.')\n",
    "colaB.dequeue()\n",
    "colaB.printListQueue()\n",
    "print(f'\\nEl primer elemento de la cola es {colaB.first()}.')\n",
    "colaB.dequeue()\n",
    "colaB.printListQueue()\n",
    "print(f'\\nEl primer elemento de la cola es {colaB.first()}.')\n",
    "colaB.dequeue()\n",
    "colaB.printListQueue()\n",
    "print(f'\\nEl primer elemento de la cola es {colaB.first()}.')\n",
    "colaB.dequeue()\n",
    "colaB.printListQueue()\n",
    "print(f'\\nEl primer elemento de la cola es {colaB.first()}.')\n",
    "colaB.dequeue()\n",
    "colaB.printListQueue()\n",
    "print(f'\\nEl primer elemento de la cola es {colaB.first()}.')\n",
    "colaB.dequeue()\n",
    "colaB.printListQueue()"
   ]
  }
 ],
 "metadata": {
  "kernelspec": {
   "display_name": "Python 3",
   "language": "python",
   "name": "python3"
  },
  "language_info": {
   "codemirror_mode": {
    "name": "ipython",
    "version": 3
   },
   "file_extension": ".py",
   "mimetype": "text/x-python",
   "name": "python",
   "nbconvert_exporter": "python",
   "pygments_lexer": "ipython3",
   "version": "3.10.6"
  },
  "orig_nbformat": 4
 },
 "nbformat": 4,
 "nbformat_minor": 2
}
