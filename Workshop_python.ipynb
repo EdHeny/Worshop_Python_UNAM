{
 "cells": [
  {
   "attachments": {},
   "cell_type": "markdown",
   "metadata": {},
   "source": [
    "# Taller Python: Estructura de Datos.\n",
    "\n",
    "Las colecciones son estructuras de datos preempaquetadas que consisten en elementos de datos relacionados; ejemplos de colecciones son: las canciones favoritas de tu smartphone, tu lista de contactos, los libros de una biblioteca. Las colecciones incorporadas en Python permiten almacenar y acceder a los datos de forma conveniente y eficazmente: _listas_ y _tuplas_."
   ]
  },
  {
   "attachments": {},
   "cell_type": "markdown",
   "metadata": {},
   "source": [
    "## Listas.\n",
    "\n",
    "Características de las listas:\n",
    "+ son modificables y los elementos dentro de ella están indexados,\n",
    "+ pueden contener elementos del mismo tipo o de tipos diferentes,\n",
    "+ los elementos dentro de una lista pueden editarse, añadir nuevos o eliminarse,\n",
    "+ puede contener elementos duplicados sin que arroje un error,\n",
    "+ las listas pueden cambiar dinámicamente de tamaño."
   ]
  },
  {
   "attachments": {},
   "cell_type": "markdown",
   "metadata": {},
   "source": [
    "### Creando listas.\n",
    "\n",
    "Las listas suelen almacenar datos homogéneos, es decir, valores del mismo tipo de datos. Consideremos la lista _listNumber_, que contiene cinco elementos enteros:"
   ]
  },
  {
   "cell_type": "code",
   "execution_count": 6,
   "metadata": {},
   "outputs": [
    {
     "data": {
      "text/plain": [
       "[-45, 6, 0, 72, 1543]"
      ]
     },
     "execution_count": 6,
     "metadata": {},
     "output_type": "execute_result"
    }
   ],
   "source": [
    "homogeneousList = [-45, 6, 0, 72, 1543]\n",
    "homogeneousList"
   ]
  },
  {
   "attachments": {},
   "cell_type": "markdown",
   "metadata": {},
   "source": [
    "También pueden almacenar datos heterogéneos, es decir, de muchos tipos diferentes:"
   ]
  },
  {
   "cell_type": "code",
   "execution_count": 7,
   "metadata": {},
   "outputs": [
    {
     "data": {
      "text/plain": [
       "['Edgar', 3.7, 2002, [3, 4]]"
      ]
     },
     "execution_count": 7,
     "metadata": {},
     "output_type": "execute_result"
    }
   ],
   "source": [
    "heterogeneousList = ['Edgar', 3.7, 2002, [3, 4]]\n",
    "heterogeneousList"
   ]
  },
  {
   "attachments": {},
   "cell_type": "markdown",
   "metadata": {},
   "source": [
    "### Accediendo a los elementos de una lista.\n",
    "\n",
    "Para hacer referencia a un elemento de la lista, escriba el nombre de la lista seguido del índice del elemento (su número de posición) entre corchetes. El primer elemento de una lista tiene el índice 0."
   ]
  },
  {
   "cell_type": "code",
   "execution_count": 14,
   "metadata": {},
   "outputs": [
    {
     "name": "stdout",
     "output_type": "stream",
     "text": [
      "El elemento heterogeneousList[0] es Edgar\n",
      "El elemento heterogeneousList[1] es 3.7\n",
      "El elemento heterogeneousList[2] es 2002\n",
      "El elemento heterogeneousList[3] es [3, 4]\n"
     ]
    }
   ],
   "source": [
    "print(f'El elemento heterogeneousList[0] es {heterogeneousList[0]}')\n",
    "print(f'El elemento heterogeneousList[1] es {heterogeneousList[1]}')\n",
    "print(f'El elemento heterogeneousList[2] es {heterogeneousList[2]}')\n",
    "print(f'El elemento heterogeneousList[3] es {heterogeneousList[3]}')"
   ]
  },
  {
   "attachments": {},
   "cell_type": "markdown",
   "metadata": {},
   "source": [
    "También se puede acceder a las listas desde el final utilizando índices negativos:"
   ]
  },
  {
   "cell_type": "code",
   "execution_count": 16,
   "metadata": {},
   "outputs": [
    {
     "name": "stdout",
     "output_type": "stream",
     "text": [
      "El elemento heterogeneousList[-1] es [3, 4]\n",
      "El elemento heterogeneousList[-2] es 2002\n",
      "El elemento heterogeneousList[-3] es 3.7\n",
      "El elemento heterogeneousList[-4] es Edgar\n"
     ]
    }
   ],
   "source": [
    "print(f'El elemento heterogeneousList[-1] es {heterogeneousList[-1]}')\n",
    "print(f'El elemento heterogeneousList[-2] es {heterogeneousList[-2]}')\n",
    "print(f'El elemento heterogeneousList[-3] es {heterogeneousList[-3]}')\n",
    "print(f'El elemento heterogeneousList[-4] es {heterogeneousList[-4]}')"
   ]
  }
 ],
 "metadata": {
  "kernelspec": {
   "display_name": "Python 3",
   "language": "python",
   "name": "python3"
  },
  "language_info": {
   "codemirror_mode": {
    "name": "ipython",
    "version": 3
   },
   "file_extension": ".py",
   "mimetype": "text/x-python",
   "name": "python",
   "nbconvert_exporter": "python",
   "pygments_lexer": "ipython3",
   "version": "3.10.6"
  },
  "orig_nbformat": 4
 },
 "nbformat": 4,
 "nbformat_minor": 2
}
