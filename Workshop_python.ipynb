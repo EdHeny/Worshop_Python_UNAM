{
 "cells": [
  {
   "attachments": {},
   "cell_type": "markdown",
   "metadata": {},
   "source": [
    "# Taller Python: Estructura de Datos.\n",
    "\n",
    "Además de almacenar un único valor en una variable, Python soporta estructuras de datos que nos permiten almacenar múltiples elementos en una única variable. Python utiliza estructuras como tipos de datos básicos con características específicas asociadas a cada uno.\n",
    "\n",
    "Recordemos que un string es una estructura de datos que organiza el texto como una secuencia de caracteres, del mismo modo, las listas, tuplas, diccionarios y conjuntos organizan valores de datos. \n",
    "\n",
    "#### Tipos de estructura de datos en Python\n",
    "\n",
    "| Estructura | Sintaxis | Definición |  \n",
    "| ----- | ----- | ----- |\n",
    "| **List** | Las listas están encerradas dentro de corchetes: listExample = [1, 2, \"a\"] | Las listas son ordenadas y modificables. |  \n",
    "| **Tuple** | Las tuplas se encierran con paréntesis: tupleExample = (1, 2, \"a\") | Una tupla es ordenada y no puede ser modificada. |  \n",
    "| **Dictionary** | Los diccionarios se construyen usando llaves: dictionaryExample = {\"a\":1, \"b\":2} | Un diccionario no es ordenado, es modificable e indexado. Estos manejan llaves y valores. |  \n",
    "| **Set** | Los conjuntos se declaran usando también llaves: setExample = {1, 2, 3}. | Un conjunto es una colección no ordenada de elementos. Cada conjunto de elementos es único y se aconseja que no cambie, aunque un conjunto es modificable. |"
   ]
  },
  {
   "attachments": {},
   "cell_type": "markdown",
   "metadata": {},
   "source": [
    "## Listas.\n",
    "\n",
    "Una lista es una secuencia de valores de datos llamados objetos o elementos. Características de las listas:\n",
    "+ son modificables y los elementos dentro de ella están indexados,\n",
    "+ pueden contener elementos del mismo tipo o de tipos diferentes,\n",
    "+ los elementos dentro de una lista pueden editarse, añadir nuevos o eliminarse,\n",
    "+ puede contener elementos duplicados sin que arroje un error,\n",
    "+ las listas pueden cambiar dinámicamente de tamaño."
   ]
  },
  {
   "attachments": {},
   "cell_type": "markdown",
   "metadata": {},
   "source": [
    "### Creando listas.\n",
    "\n",
    "Las listas suelen almacenar datos homogéneos, es decir, valores del mismo tipo de datos. Por ejemplo:"
   ]
  },
  {
   "cell_type": "code",
   "execution_count": 2,
   "metadata": {},
   "outputs": [
    {
     "name": "stdout",
     "output_type": "stream",
     "text": [
      "[-45, 6, 0, 72, 1543]\n",
      "<class 'list'>\n"
     ]
    }
   ],
   "source": [
    "numberList = [-45, 6, 0, 72, 1543]\n",
    "print(numberList)\n",
    "print(type(numberList))"
   ]
  },
  {
   "cell_type": "code",
   "execution_count": 3,
   "metadata": {},
   "outputs": [
    {
     "name": "stdout",
     "output_type": "stream",
     "text": [
      "['Katrina', 'María', 'Miguel']\n",
      "<class 'list'>\n"
     ]
    }
   ],
   "source": [
    "stringList = ['Katrina', 'María', 'Miguel']\n",
    "print(stringList)\n",
    "print(type(stringList))"
   ]
  },
  {
   "attachments": {},
   "cell_type": "markdown",
   "metadata": {},
   "source": [
    "También pueden almacenar datos heterogéneos, es decir, de muchos tipos diferentes:"
   ]
  },
  {
   "cell_type": "code",
   "execution_count": 7,
   "metadata": {},
   "outputs": [
    {
     "data": {
      "text/plain": [
       "['Edgar', 3.7, 2002, [3, 4]]"
      ]
     },
     "execution_count": 7,
     "metadata": {},
     "output_type": "execute_result"
    }
   ],
   "source": [
    "heterogeneousList = ['Edgar', 3.7, 2002, [3, 4]]\n",
    "heterogeneousList"
   ]
  },
  {
   "attachments": {},
   "cell_type": "markdown",
   "metadata": {},
   "source": [
    "### Accediendo a los elementos de una lista.\n",
    "\n",
    "Para hacer referencia a un elemento de la lista, escriba el nombre de la lista seguido del índice del elemento (su número de posición) entre corchetes. El primer elemento de una lista tiene el índice 0."
   ]
  },
  {
   "cell_type": "code",
   "execution_count": 14,
   "metadata": {},
   "outputs": [
    {
     "name": "stdout",
     "output_type": "stream",
     "text": [
      "El elemento heterogeneousList[0] es Edgar\n",
      "El elemento heterogeneousList[1] es 3.7\n",
      "El elemento heterogeneousList[2] es 2002\n",
      "El elemento heterogeneousList[3] es [3, 4]\n"
     ]
    }
   ],
   "source": [
    "print(f'El elemento heterogeneousList[0] es {heterogeneousList[0]}')\n",
    "print(f'El elemento heterogeneousList[1] es {heterogeneousList[1]}')\n",
    "print(f'El elemento heterogeneousList[2] es {heterogeneousList[2]}')\n",
    "print(f'El elemento heterogeneousList[3] es {heterogeneousList[3]}')"
   ]
  },
  {
   "attachments": {},
   "cell_type": "markdown",
   "metadata": {},
   "source": [
    "También se puede acceder a las listas desde el final utilizando índices negativos:"
   ]
  },
  {
   "cell_type": "code",
   "execution_count": 16,
   "metadata": {},
   "outputs": [
    {
     "name": "stdout",
     "output_type": "stream",
     "text": [
      "El elemento heterogeneousList[-1] es [3, 4]\n",
      "El elemento heterogeneousList[-2] es 2002\n",
      "El elemento heterogeneousList[-3] es 3.7\n",
      "El elemento heterogeneousList[-4] es Edgar\n"
     ]
    }
   ],
   "source": [
    "print(f'El elemento heterogeneousList[-1] es {heterogeneousList[-1]}')\n",
    "print(f'El elemento heterogeneousList[-2] es {heterogeneousList[-2]}')\n",
    "print(f'El elemento heterogeneousList[-3] es {heterogeneousList[-3]}')\n",
    "print(f'El elemento heterogeneousList[-4] es {heterogeneousList[-4]}')"
   ]
  }
 ],
 "metadata": {
  "kernelspec": {
   "display_name": "Python 3",
   "language": "python",
   "name": "python3"
  },
  "language_info": {
   "codemirror_mode": {
    "name": "ipython",
    "version": 3
   },
   "file_extension": ".py",
   "mimetype": "text/x-python",
   "name": "python",
   "nbconvert_exporter": "python",
   "pygments_lexer": "ipython3",
   "version": "3.10.6"
  },
  "orig_nbformat": 4
 },
 "nbformat": 4,
 "nbformat_minor": 2
}
